{
 "metadata": {
  "language_info": {
   "codemirror_mode": {
    "name": "ipython",
    "version": 3
   },
   "file_extension": ".py",
   "mimetype": "text/x-python",
   "name": "python",
   "nbconvert_exporter": "python",
   "pygments_lexer": "ipython3",
   "version": "3.7.6-final"
  },
  "orig_nbformat": 2,
  "kernelspec": {
   "name": "python3",
   "display_name": "Python 3",
   "language": "python"
  }
 },
 "nbformat": 4,
 "nbformat_minor": 2,
 "cells": [
  {
   "source": [
    "# Give data tags\n",
    "The purpose of this notebook is to read the h5out-tagged file provided by stephen and create query the spotify api for the correct features for each of the songs."
   ],
   "cell_type": "markdown",
   "metadata": {}
  },
  {
   "cell_type": "code",
   "execution_count": null,
   "metadata": {},
   "outputs": [],
   "source": []
  },
  {
   "cell_type": "code",
   "execution_count": 12,
   "metadata": {},
   "outputs": [],
   "source": [
    "# my spotify api \n",
    "from spotify_api import SpotifyAPIWrapper\n",
    "\n",
    "# dataset manipulation\n",
    "import pandas as pd\n",
    "import numpy as np"
   ]
  },
  {
   "cell_type": "code",
   "execution_count": 13,
   "metadata": {},
   "outputs": [
    {
     "output_type": "stream",
     "name": "stdout",
     "text": [
      "                             Artist name  \\\n0                               Mastodon   \n1                            Los Chichos   \n2                             Foxy Brown   \n3  Ram\\xc3\\xb3n Vargas;Vladimir Jurowski   \n4                              Enthroned   \n\n                                               Title  Year  Loudness  Key  \\\n0                                  Deep Sea Creature  2001    -3.306    5   \n1                               No Quieras Marcharte  1984   -10.764    0   \n2                                            If I...     0    -9.035    1   \n3  Werther - Lyric Drama in four Acts/Act I/Alors...     0   -23.095    7   \n4               Ad Te Clamamus Exsvles Mortva Liberi  2010   -20.359    2   \n\n   Danceability  Energy    Tempo  isTop100  \n0           0.0     0.0  173.205         0  \n1           0.0     0.0  150.955         0  \n2           0.0     0.0   93.056         0  \n3           0.0     0.0  127.113         0  \n4           0.0     0.0   90.660         0  \n"
     ]
    }
   ],
   "source": [
    "# Read the h5out-tagged \n",
    "df = pd.read_csv(\"h5out-tagged.csv\")\n",
    "print(df.head())\n"
   ]
  },
  {
   "cell_type": "code",
   "execution_count": 14,
   "metadata": {},
   "outputs": [
    {
     "output_type": "stream",
     "name": "stdout",
     "text": [
      "Datasets match\n"
     ]
    }
   ],
   "source": [
    "# seperate the artist names and the song names\n",
    "artist_names = df.iloc[:,0]\n",
    "song_names = df.iloc[:,1]\n",
    "exists_in_top_100 = df.iloc[:,-1]\n",
    "\n",
    "# check that the length of artist names and song names are the same\n",
    "if (len(artist_names) == len(song_names)):\n",
    "    print(\"Datasets match\")\n",
    "else:\n",
    "    print(\"Error, differing number of songs and artists\")"
   ]
  },
  {
   "cell_type": "code",
   "execution_count": 1,
   "metadata": {
    "tags": []
   },
   "outputs": [
    {
     "output_type": "error",
     "ename": "NameError",
     "evalue": "name 'SpotifyAPIWrapper' is not defined",
     "traceback": [
      "\u001b[1;31m---------------------------------------------------------------------------\u001b[0m",
      "\u001b[1;31mNameError\u001b[0m                                 Traceback (most recent call last)",
      "\u001b[1;32m<ipython-input-1-6d3aada429d4>\u001b[0m in \u001b[0;36m<module>\u001b[1;34m\u001b[0m\n\u001b[0;32m      3\u001b[0m \u001b[1;33m\u001b[0m\u001b[0m\n\u001b[0;32m      4\u001b[0m \u001b[1;31m# create a reference to my api\u001b[0m\u001b[1;33m\u001b[0m\u001b[1;33m\u001b[0m\u001b[1;33m\u001b[0m\u001b[0m\n\u001b[1;32m----> 5\u001b[1;33m \u001b[0mspotify\u001b[0m \u001b[1;33m=\u001b[0m \u001b[0mSpotifyAPIWrapper\u001b[0m\u001b[1;33m(\u001b[0m\u001b[1;33m)\u001b[0m\u001b[1;33m\u001b[0m\u001b[1;33m\u001b[0m\u001b[0m\n\u001b[0m\u001b[0;32m      6\u001b[0m \u001b[0mgenius_API\u001b[0m \u001b[1;33m=\u001b[0m \u001b[0mGeniusApi\u001b[0m\u001b[1;33m(\u001b[0m\u001b[1;33m)\u001b[0m\u001b[1;33m\u001b[0m\u001b[1;33m\u001b[0m\u001b[0m\n\u001b[0;32m      7\u001b[0m \u001b[1;31m# request an api token for spotify to use\u001b[0m\u001b[1;33m\u001b[0m\u001b[1;33m\u001b[0m\u001b[1;33m\u001b[0m\u001b[0m\n",
      "\u001b[1;31mNameError\u001b[0m: name 'SpotifyAPIWrapper' is not defined"
     ]
    }
   ],
   "source": [
    "# loop over each one of the songs, and get the spotify song id for that song\n",
    "# NOTE: currently starting with the first 10 songs to act as a test\n",
    "\n",
    "# create a reference to my api\n",
    "spotify = SpotifyAPIWrapper()\n",
    "\n",
    "# request an api token for spotify to use\n",
    "# TODO: move this to the constructor\n",
    "spotify.get_spotify_api_token()\n",
    "print(spotify.access_token)\n",
    "\n",
    "#The last successful search\n",
    "# the number of rows being interograted is currently 10\n",
    "number_of_rows = 1335\n",
    "\n",
    "# keeps track of where the dataset should be added to, as some errors may occur and features not able to be found on spotify\n",
    "next_dataset_row = 0\n",
    "\n",
    "# declare a response dataframe\n",
    "outputframe = pd.DataFrame(columns=(\"Artist name\", \"Title\", \"spotify_id\", \"acousticness\", \"dancability\", \"energy\", \"instrumentalness\", \"key\", \"liveness\", \"loudness\", \"mode\", \"speechiness\", \"tempo\", \"valence\", \"isTop100\"), index=np.arange(0,number_of_rows))\n",
    "\n",
    "# for our test set of 10 songs\n",
    "for i in range(0 ,number_of_rows):\n",
    "    title = song_names[i]\n",
    "    artist = artist_names[i]\n",
    "    isTop100 = exists_in_top_100[i]\n",
    "\n",
    "    # get the relevant song id\n",
    "    songid = spotify.search_spotify_song_id(artist_name=artist, song_name=title)\n",
    "    \n",
    "    # check for None being returned for failed results\n",
    "    if (songid != False):\n",
    "        # get the features from the api\n",
    "        features = spotify.get_features_from_id(songid)\n",
    "        if (features != False):\n",
    "            # Add the features to a new row in a new dataframe\n",
    "            outputframe.loc[next_dataset_row] = [artist, title, features[\"id\"], features[\"acousticness\"], features[\"danceability\"], features[\"energy\"], features[\"instrumentalness\"], features[\"key\"], features[\"liveness\"], features[\"loudness\"], features[\"mode\"], features[\"speechiness\"], features[\"tempo\"], features[\"valence\"], isTop100]\n",
    "\n",
    "            # increment the next row to enter to\n",
    "            next_dataset_row = next_dataset_row + 1\n",
    "\n",
    "\n",
    "\n",
    "print(outputframe)\n"
   ]
  },
  {
   "cell_type": "code",
   "execution_count": 9,
   "metadata": {},
   "outputs": [],
   "source": [
    "outputframe.to_csv(\"featured_tagged2.csv\")"
   ]
  },
  {
   "source": [
    "# Getting More positive results from the Billboard Dataset\n",
    "Idea here is to take a random sample from the full billboard top 100 dataset and add more positives to our model so we can train it.\n"
   ],
   "cell_type": "markdown",
   "metadata": {}
  },
  {
   "cell_type": "code",
   "execution_count": 15,
   "metadata": {},
   "outputs": [],
   "source": [
    "# Extracting hits from the dataset\n",
    "import random as rand\n",
    "billboardDF = pd.read_csv(\"hot_stuff_2.csv\")\n",
    "\n",
    "song_names_bill = billboardDF.iloc[:,3]\n",
    "artist_names_bill = billboardDF.iloc[:,4]\n",
    "    "
   ]
  },
  {
   "cell_type": "code",
   "execution_count": 16,
   "metadata": {
    "tags": [
     "outputPrepend"
    ]
   },
   "outputs": [
    {
     "output_type": "stream",
     "name": "stdout",
     "text": [
      " L.A.', 'The Plastic Man', 'I Found A Love Oh What A Love', 'The One', 'We Are The Young', 'Man On The Moon', 'Get At Me Dog', 'Twerk', 'Cook With Honey', \"Since You've Been Gone\", 'Poor Boy', \"Buy U A Drank (Shawty Snappin')\", 'How Do You Feel The Morning After', 'Peace Of Mind', 'Paying The Cost To Be The Boss', \"Haven't Stopped Dancing Yet\", 'Mine', 'Molly', \"Uptight (Everything's Alright)\", 'Miss Me', 'Life In Mono', 'Prisoner (Captured By Your Eyes)', 'Java', 'Never Enough', 'Wait For You', 'The Best Disco In Town', 'I Want To Hold Your Hand', 'Soul Meets Body', 'Pray For You', 'As Good As I Once Was', 'Cool Aid', 'Will You Marry Me?', 'Take Time', '99 Luftballons', 'Shake Your Bon-Bon', 'Bella y Sensual', 'Why Me', 'Smack That', 'Whodunit', 'In My Dreams', 'I Honestly Love You', 'Last Date', 'Faith', 'Holy Grail', 'The Sound Of Goodbye', 'Only The Lonely (Know How I Feel)', 'My First Night With You', \"U Should've Known Better\", 'Tell Me Why', 'Before The Next Teardrop Falls', 'Just A Dream', 'I Got You', 'Coward Of The County', 'Semi-Charmed Life', 'Honky Tonk (Part 2)', 'Queen Of Hearts', 'Precious To Me', \"I Can't Work No Longer\", 'Wasted', 'Bon, Bon', 'To A Sleeping Beauty', 'How The Time Flies', 'Hold On', 'See You Again', 'I Wonder If Heaven Got A Ghetto', 'MotorSport', 'Madness', 'Too Beautiful To Last', 'Someone Like You', 'That Old Black Magic', 'Notice Me', 'Hold It Against Me', 'Penetration', 'Dream', 'Backwater', 'Ric Flair Drip', 'Read Your Mind', 'No Lie', 'Up Down', 'People Like Us', 'Happy', 'And That Reminds Me (My Heart Reminds Me)', 'All Of Me For All Of You', 'Morning Man', 'Rock Wit U (Awww Baby)', 'I Fall Apart', 'I Want To Be Your Man', 'Put A Ring On My Finger', \"Wish I Didn't Miss You\", 'Kicks', \"If I Didn't Love You\", 'Crazy For This Girl', \"You're My Best Friend\", 'Georgia Rose', 'Tempted To Touch', 'Get The Party Started', 'Georgia On My Mind', 'I Could Never Miss You (More Than I Do)', 'White Christmas', 'Love In An Elevator', 'Boogie Fever', \"That's When I Love You\", \"I'm A Fool\", \"The Children's Marching Song (Nick Nack Paddy Whack)\", 'Light On', 'Your Woman', \"I Can't Dance\", 'All Star', 'Country Sunshine', 'Keep Your Hands Off My Baby', 'Radar', 'Catch Me (I\\'m Falling) (From The Film \"Hiding Out\")', 'I Found Someone', \"We're Gonna Make It\", 'I Cry', 'Two Of Hearts', 'Feel It', 'Feel So High', \"Somethin' Bad\", \"I Still Can't Get Over Loving You\", 'How I Could Just Kill A Man/The Phuncky Feel One', 'Orinoco Flow (Sail Away)', 'Our Song', 'Automatic Lover (Call For Love)', 'Bent', 'Are You Gonna Kiss Me Or Not', 'Cry Softly', 'Guilty', 'Easier', 'Trapped In The Closet', 'Choo Choo Train', \"Al's Place\", 'Dilemma', 'Machines', 'Post To Be', 'How Do I Live (From \"Con Air\")', \"It Ain't Me\", 'Cara-Lin', 'Good Directions', 'Start Me Up', \"Ain't No Other Man\", 'We R Who We R', \"Look What You've Done To Me\", \"She's Always A Woman\", 'Two Steps Behind (From \"Last Action Hero\")', 'Rock-A-Bye Your Baby With A Dixie Melody', 'Wait (The Whisper Song)', 'Life Is A Rock (But The Radio Rolled Me)', 'Murder She Wrote', 'Into Your Arms', 'Part Of Me, Part Of You', 'Cottage Cheese', 'When Your Heart Is Weak', 'How Do I Survive', 'Loco', 'Down', 'Follow Me', 'Tallahassee Lassie', 'Hot Hot Hot', 'Missing You', 'Wind Beneath My Wings (From \"Beaches\")', 'POWER', 'Love Power', 'It Goes Like This', \"Comin' Down Tonight\", 'King Of Clowns', 'Turning Tables', \"(i've Been) Searchin' So Long\", \"Just Can't Get Enough\", 'I Got The Keys', 'Southside', 'Knock On Wood', 'The Morning Papers', 'Truffle Butter', 'Another Cup Of Coffee', 'Escape', \"I'm Not In Love\", 'Take No Prisoners (In The Game Of Love)', 'Hush', 'Only Wanna Be With You', \"I Can't Help Myself\", 'My Toot Toot', 'Thank The Lord For The Night Time', 'Rock Yo Hips', 'Like A Virgin', 'Foot Stomping - Part 1', 'Like A Stone', 'Outstanding', 'Spanish Harlem', 'No Surprise', 'Ta Da', 'Live It Up Part 1', 'Battle Hymn Of The Republic', \"You're Only Lonely\", 'You Can Do Magic', 'Sweet Southern Comfort', 'Constant Rain (Chove Chuva)', 'Heaven', 'Destiny', 'Best Thing', 'Da Doo Ron Ron (When He Walked Me Home)', 'Hard To Love', 'In The Ayer', 'See You Again', 'Watch Closely Now', 'The Other Woman', 'The Weight', \"Livin' Our Love Song\", 'Shining', 'Head Over Heels', 'Two Tribes', 'Wake Me Up!', 'Going Back To Cali', 'Part-Time Lover', 'Regret', \"I Would've Loved You Anyway\", 'Best I Ever Had', \"(I Don't Want To Love You But) You Got Me Anyway\", 'Outa-Space', 'Cry', 'Turn The Beat Around (From \"The Specialist\")', 'Point At You', \"Which Way You Goin' Billy?\", 'Get Back', 'Wishing Well', \"When There's No You\", 'Sad Eyes', \"I'll Make Love To You\", 'Love Is Alive', 'Mickey', 'No Easy Way Out', 'Love Story', \"I'm So Hood\", 'Want U Back', 'Do You Love Me', 'Almost Persuaded', 'If You Were Mine', 'Blue Boy', 'Sara', 'Mambo No. 5 (A Little Bit Of...)', 'Always And Forever', \"I Always Feel Like (Somebody's Watching Me)\", 'Misty', 'Too Late To Turn Back Now', \"I'd Still Say Yes\", 'Chains Around My Heart', 'Nine More Miles (The \"Faster-Faster\" Song)', 'Bad Guy', 'Tomorrow', 'Pimp Of The Year', 'Time And Chance', \"Yes, I'm Ready\", 'One Last Cry', 'Swang', \"Don't Answer Me\", 'Mind Playing Tricks On Me', 'Every Storm (Runs Out Of Rain)', 'Nasty', 'With You All The Way', \"Keep On Smilin'\", 'Lo Que Son Las Cosas', 'Ruffneck', \"Can't Stay Away From You\", 'Waves', 'Exodus', 'Wish You Were Gay', 'Waiting For That Day', 'Part Time Love', \"When I Think About Cheatin'\", 'The Pretender', 'My Body', 'One Day At A Time', 'Get Ready For This', 'The Ballad Of The Green Berets', 'Gotta Serve Somebody', \"You Can't Get What You Want\", 'How To Deal', \"I'm Different\", 'Busted', 'How You Gonna Act Like That', 'Expression', 'Turn Off The Lights', 'Turn Down For What', 'I Just Wanna Keep It Together', 'Big Bad John', \"Temptation 'Bout To Get Me\", \"Livin' It Up\", \"Beggin'\", 'Remember The Time', 'I Want It That Way', 'Stingy', 'I Will Survive', \"Halle Berry (She's Fine)\", 'The City Is Mine', 'My Toot Toot', 'Wings', 'Get The Party Started', 'Now Run And Tell That', 'Shake It Off', 'Baby Come And Get It', 'Make Love Like A Man', \"Can't Believe\", 'Hold On To My Love', 'Everyone Falls In Love', \"Holdin' On To Yesterday\", 'Just Once In My Life', \"(Sittin' On) The Dock Of The Bay\", 'Another Part Of Me', 'What If', 'All Over The World', 'Uma Thurman', \"We've Got To Get It On Again\", \"(If Loving You Is Wrong) I Don't Want To Be Right\", 'Poker Face', 'Tender Years', 'Nine In The Afternoon', 'Best Love Song', 'All She Wrote', 'Cheated (To All The Girls)', 'Glory Bound', 'What If I Never Get Over You', 'Fast', 'Dancing In The Dark', 'Oh Girl', \"Nothin'\", \"Bitches Ain't S**t\", 'Shaky Shaky', 'Gitty Up', 'Your Song', 'Foe Life', 'I Think Of You', \"It's Hard To Be Humble\", 'Tempted', \"Who's Crying Now\", 'Your Body', 'Come And Get With Me', 'Hippy Hippy Shake', 'One Night In Bangkok', 'A Nightmare On My Street', 'Endless Love', 'Playing Games', 'Best Song Ever', 'Be Real', 'Love Yourself', 'No Tengo Dinero', 'Deadbeat Club', 'Love Changes (Everything)', 'Angels', 'Stardust', \"It's Time\", 'Blue (Da Ba Dee)', \"Still The Lovin' Is Fun\", 'Personality', 'Get It Together (Part 1)', 'Your Time To Cry', 'Perfect Situation', \"If Your Heart Isn't In It\", 'Slow And Easy', 'Here Come Those Tears Again', 'The Fighter', 'International Love', 'Every Breath You Take', 'Honky Tonk (Part 2)', \"I'm Glad\", \"You Should Be Mine (Don't Waste Your Time)\", \"There'll Be Sad Songs (To Make You Cry)\", 'The Hills', 'Maria', 'You Are The Sunshine Of My Life', 'Baby Grand', 'Diamonds And Pearls', 'Love Letters', 'After The Fire', \"Foolin' Yourself\", 'What Kind Of Fool', 'Foreplay', 'Panini', \"Night's On Fire\", \"I'm Really Hot\", 'Dance On Little Girl', \"The Girl's A Devil\", 'No Boundaries', 'Girl U For Me/Lose Control', 'Possession', 'Sea Of Love', 'I Like To Live The Love', 'Holland Road', \"Don't\", 'Foolish Heart', 'Lonely Together', 'This Is Your Night', 'Carrie', 'We Could', 'Love Makes A Woman', 'Escapade', 'This Is My Night', 'Uptown Girl', 'All I Do Is Think Of You', 'Cowboy Casanova', 'Wheels', 'Signs', \"She's A Bad Mama Jama (She's Built, She's Stacked)\", 'Born A Woman', \"I'll Be The Other Woman\", 'How You Gonna Act Like That', 'White Lightning', 'The Matador', \"Don't Let Go (Love)\", 'Last Song', 'Get Ready', 'Dial My Heart', 'Teardrops On My Guitar', 'Let It Go (From \"Set It Off\")', \"Why Don't You Get A Job?\", 'Bandit Of My Dreams', \"You'll Be In My Heart\", 'Kiss In The Dark', '22', 'Music', 'Got Some Teeth', 'Greatest Love Story', 'Valotte', 'Let Me Be Lonely', 'Midnight Train To Georgia', 'Help Me Girl', \"Tonight's The Night\", 'Die A Happy Man', 'Runaway Love', 'You Know That I Love You', \"It's Only The Beginning\", 'Let Me Be The Clock', '3am', 'Celebration', 'Roses', 'Dreamer', 'Fool For Your Loving', 'Free Me', 'Forgive Me For Dreaming', \"How's It Going To Be\", 'Higher', 'Did You Ever Have To Make Up Your Mind?', 'Slide', 'Mine', 'Rubber Bullets', 'Hallelujah (Vancouver Winter 2010 Version)', 'Freak Like Me', \"We've Got To Get It On Again\", 'Epic', 'The Seduction (Love Theme)', \"Rainy Night In Georgia/Rubberneckin'\", \"I'll Take You There\", 'Try It', '4 Ever', 'What Have I Done To Deserve This?', 'Who Do You Give Your Love To?', 'Song On The Radio', \"Is It Love That We're Missin'\", 'Bliss', 'Levels', 'Why Should I Cry?', \"Soon I'll Wed My Love\", 'La Tortura', 'Breakout', 'Dangerous', \"No Lookin' Back\", 'Feel Good Inc', 'Smoke From A Distant Fire', 'Gangnam Style', 'Funky Chicken (Part 1)', 'Hero', 'Girlfriend', 'Daybreaker', 'Work Out', 'The Monster', 'Baby Face', 'Love In Store', 'Knock Knock', 'Secret Garden', 'A Million And One', 'Only Love Is Real', 'Untouched', \"I'm So Proud\", 'On And On', 'Beautiful Girls', 'Lonely Days', 'I Dreamed A Dream', 'I Found A Girl', 'Unpretty', 'Then The Morning Comes', \"I'm On Fire\", 'Come Back', 'Wildwood Days', 'Baby Elephant Walk', 'Hide Away', 'Overprotected', 'I Love You', 'Get The Party Started', \"I'm Too Far Gone (To Turn Around)\", 'The Nitty Gritty', \"'Round We Go\", 'I Love You More And More Every Day', 'Think Of You', 'Still D.R.E.', \"Bringin' On The Heartbreak\", 'Rumors', 'Ski King', 'All About That Bass', 'Feels So Good', 'Beautiful', 'The Best Disco In Town', 'Alone', 'Mighty Clouds Of Joy', 'Dancing Machine', 'Make Me Lose Control', \"I've Got A Lot To Learn About Love\", 'Yeah!', 'Heartless', 'Walk On The Wild Side', 'I Do The Rock', 'Soulful Strut', 'A Little Bit Stronger', \"I'm Still In Love With You\", 'Cowboy Take Me Away', 'When Something Is Wrong With My Baby', 'Keeper Of The Castle', 'Freak Out', \"Don't It\", 'Sugar Baby Love', \"Travelin' Soldier\", 'Hey Mr. D.J.', \"Can't Stop, Won't Stop\", 'Sin So Well', 'The Way I Feel About You', 'Nightime', 'Little Bitty Girl', 'Fall Into Me', 'Blackberry Molasses', 'Obsessed', 'How Forever Feels', \"(Say) You're My Girl\", 'Happy Together', 'Hooked On You', 'You Gets No Love', \"C'mon Marianne\", 'Bust It Baby Part 2', 'Wet Dreamz', 'Freaky Gurl', 'Danger Zone', \"It's The Same Old Song\", 'Kiss You', 'Tell It All Brother', 'I See The Light', 'Break Up With Him', 'Dreamboat Annie', 'Touch It', \"Tell Me (What's Goin' On)\", 'Stronger', 'Knock Three Times', 'Best Friend', 'Can Your Monkey Do The Dog', 'Grenade', 'One Night In Bangkok', 'I Want Candy', 'Youth', 'Somebody To Love', 'Play That Funky Music', \"Breakin' My Heart (Pretty Brown Eyes)\", \"When You're In Love With A Beautiful Woman\", 'She Did It', 'Hey Stoopid', 'On Our Own (From \"Ghostbusters II\")', \"Let's Dance\", \"Doin' What She Likes\", 'Tighten Up', 'Personally', 'When Can I See You', 'Stay', 'Long Cool Woman (In A Black Dress)', \"Whole Lot Of Shakin' In My Heart (Since I Met You)\", 'Take Me There', 'Such A Woman', 'Biology', 'Calling My Spirit', 'Action Speaks Louder Than Words', 'Oui', 'Love Me Tonight', 'Smiling Faces Sometimes', \"Don't Cry Daddy/Rubberneckin'\", 'Wrapped Around Your Finger', 'Town Without Pity', \"I Can't Say Goodbye\", 'Frankie And Johnny', 'I Heard A Rumour (From \"Disorderlies\")', 'My Life Would Suck Without You', 'Diamonds And Pearls', \"Po' Folks\", 'Cruising For Bruising', 'Help Me', 'You Wanted Someone To Play With (I Wanted Someone To Love)', 'Hands Clean', \"In The Driver's Seat\", 'Big Yellow Taxi', 'Hear The Bells', 'Breathe', 'Peta', 'Vacation', 'Misty', 'Locked Up', 'Jump To It', \"Finally Got Myself Together (I'm A Changed Man)\", 'Mmm Mmm Mmm Mmm', 'Dr. Feelgood', 'When I Look To The Sky', 'A Scottish Soldier (Green Hills of Tyrol)', \"Don't Ever Be Lonely (A Poor Little Fool Like Me)\", 'Mockingbird', \"Don't Say\", 'All For Love', \"She's Mine\", 'One Of Those Days', \"Say You Won't Let Go\", 'Blind Eye/Sweet Lorraine', 'Young Wings Can Fly (Higher Than You Know)', 'Three Times A Lady', 'Painted Ladies', 'Genie In A Bottle', 'Harper Valley P.T.A.', 'Tender Years', 'The Winner Takes It All', 'From Where You Are', \"Don't Fight It\", 'Live And Die For Hip Hop', 'Everlasting Love', 'What Would You Do?', \"Don't Mess With My Man\", 'In America', 'Lullaby Of Love', 'Wow.', 'Forever', 'Sticks And Stones', 'Ajax Liquor Store', 'Little Bit Of Soap', 'Welcome To The Boomtown', 'Sexy Can I', 'Three Ring Circus', 'Coming Up (Live At Glasgow)', '22', 'Everybody Needs Love', 'F**k You! (Forget You)', 'Union Man', 'The Visitors', \"Ain't Nuthin' But A She Thing\", 'With You Tonight / Hasta El Amanecer', 'Shot Of Poison', '(I Do The) Shimmy Shimmy', 'Sugar Sugar/Cole, Cooke & Redding', 'Undercover Of The Night', 'Wu-Wear: The Garment Renaissance (From \"High School High\")', 'With Your Love', 'We Run The Night', \"I'll Make Love To You\", 'Soul Serenade', 'Hey Big Brother', \"Can't You See Me Cry\", 'I Know You See It', 'Sledgehammer', 'Got Me Waiting', 'I Wanna Be The One', 'Amanda', 'Banned In The U.S.A.', 'How You Remind Me', 'You', \"Ain't Gonna Eat Out My Heart Anymore\", 'Roll With It', 'Love Lies', 'Get Me Bodied', 'Rockabye', 'Girls Chase Boys', 'Everybody Plays The Fool', 'Boom Clap', \"You've Got The Power\", 'The Night', 'Fame', 'Nel Blu Dipinto Di Blu (Volaré)', 'Monster Mash', 'Bubbly', \"Don't Stop\", 'Be With You', 'Lovers After All', \"('til) I Kissed You\", \"I've Got A Thing About You Baby/Take Good Care Of Her\", 'All This Time', 'Take A Little Rhythm', 'The Morning Side Of The Mountain', 'Human', 'Want To', 'Try', 'Raise Your Glass', 'Real Love', 'It\\'s For You (From \"The Meteor Man\")', \"Let's All Chant\", 'Hello Good Morning', 'Shimmy, Shimmy, Ko-Ko-Bop', \"Break Up With Your Girlfriend, I'm Bored\", 'Everything Is Beautiful', \"Don't Turn Around\", 'Angry All The Time', 'Cheaper To Keep Her', 'Sunrise, Sunburn, Sunset', 'Batdance (From \"Batman\")', 'Kiss Him Goodbye', 'Make My Day', 'The Happy Song (Dum-Dum)', 'Together Again', 'Teddy Bear', 'Duncan', \"That's What Girls Are Made For\", \"I'll Know Her When I See Her\", 'Dazzey Duks', \"Dreamin'\", 'Treat You Better', 'Hello Heartache, Goodbye Love', 'Trust In Me', \"You've Lost That Lovin' Feeling\", \"I'm The Only One\", 'Until The End Of Time', 'Where Do Broken Hearts Go', 'Dancing In The Moonlight', 'I Just Want To Be Your Everything', \"Makin' It\", 'Fly By Night/In The Mood', 'Madness', \"When You're In Love With A Beautiful Woman\", \"You're Fooling You\", 'Just Be True', 'Just Dropped In (To See What Condition My Condition Was In)', 'Just Friends (Sunny)', 'Day By Day', 'Night Pulse', \"She's Trouble\", 'Mr. Loverman (From \"Deep Cover\")', 'Last Train Home', \"I Can't Make You Love Me\", 'Landlord', 'Run To Him', 'Stormy', 'Walking The Floor Over You', \"She Don't Use Jelly\", 'Headsprung', 'Nightbird', 'I Heard It Through The Grapevine', \"I'm Through With Love\", 'American Ride', \"Feels Good (Don't Worry Bout A Thing)\", 'Because Of You', 'Another Part Of Me', 'In And Out Of Love', 'Question', 'Gloria', 'Someday', 'Catch Us If You Can', 'Book Of Love', 'Cheerleader', 'Seven Bridges Road', 'I Got Stung', 'On The Road Again', \"I'm Living In Two Worlds\", 'Twilight Zone', 'Breakdown Dead Ahead', 'Different Worlds', 'Twilight Zone', 'A Lot', \"It's Going To Take Some Time\", 'Do That To Me One More Time', 'Whatever You Want', 'Please Mr. Sun', 'K-Jee', 'Thinking Of You', 'Fire', 'Day After Day', 'This Is What You Came For', 'Phenomenon', \"We Can't Stop\", 'From The Ground Up', 'Wasting My Time', \"If I Can't Have You\", 'Young Forever', 'And Our Feelings', 'What I Like About You', 'Safe & Sound', 'Here (In Your Arms)', 'You Can Do It', 'Come On Over Baby (All I Want Is You)', 'One Summer Night', 'Turn To Stone', \"Don't You Wanna Be Mine\", \"I'll Never Find Another You\", 'Ally Ally Oxen Free', 'That Magic Touch', 'No Hurry', 'Better Days', 'Hard Knock Life (Ghetto Anthem)', \"I'm Already There\", 'Where Are You Going', 'Diamonds', 'Wanted', 'I Know You Want Me (Calle Ocho)', 'Party All The Time', 'Love Has Finally Come At Last', 'God Is A Woman', 'Harlem Shake', 'The Salt In My Tears', 'On My Own', 'Humble And Kind', \"I'll Be\", \"We Can't Stop\", \"That's The Way (I Like It)\", 'Boom Boom Pow', 'Play', 'Love In An Elevator', 'Hard To Handle', 'One Vision', 'Cruise', \"That's What Love Is For\", \"Everybody's Got Somebody But Me\", 'Work From Home', 'In Your Room', 'Tell Me Why', 'Take It Away', 'Forever', 'Still Water (Love)', 'Any Way You Want It', 'Disco Queen', 'Woman Tonight', 'Mine', 'Ready To Run', 'Intergalactic', 'No Problem', 'Video Killed The Radio Star', 'Roll Over Beethoven', 'The Funniest Thing', 'Liquid Dreams', 'Shotgun', \"Sayin' Sorry (Don't Make It Right)\", 'Somewhere Out There', 'Let Me Know (I Wonder Why Freestyle)', 'When I Need You', 'Evacuate The Dancefloor', 'Bad Boy For Life', \"Gangsta Lovin'\", 'Give To Live', 'Old Man & Me (When I Get To Heaven)', 'If You Want It', 'This Love', 'Foot Stomping - Part 1', 'U Remind Me', \"You're A Special Part Of Me\", 'Wonderful World', 'What Kind Of Fool Am I', 'Megalomaniac', 'Julie, Do Ya Love Me', 'Heart On My Sleeve', 'Ain\\'t Nobody (From \"Beavis And Butt-Head Do America\")', \"Can't Remember To Forget You\", 'Zunga Zeng', 'Rain Forest', 'You Make Me Feel Brand New', \"Don't Call Us, We'll Call You\", 'RGF Island', 'Waiting For You', 'Time Has Come Today', 'From The Bottom Of My Broken Heart', \"When It's Over\", 'Love Me Like You Mean It', 'Am I The Same Girl', 'Upside Down', 'Mad About You', 'Drew Barrymore', 'Stand Back', 'Louie, Louie', 'Dedicated To The One I Love', \"Please Don't Talk To The Lifeguard\", 'Gonna', 'A String Of Trumpets', \"Baby Don't Get Hooked On Me\", 'Stag-O-Lee', 'Indian Summer', 'High Hopes', 'My Boo', 'Make Love To Me', 'Now That We Found Love', 'It Only Hurts When I Try To Smile', 'Waves', 'Urgent', \"She's A Bad Mama Jama (She's Built, She's Stacked)\", 'God Is A Woman', 'Miss Me', 'The More You Ignore Me, The Closer I Get', 'Uma Thurman', 'I Still Miss You', 'Starving', 'Under Pressure', 'Love Makes Things Happen', 'Stay Together Young Lovers', 'Coward Of The County', 'I Love The Way You Love', 'Anything', 'How I Feel', 'Wet The Bed', 'Fly Over States', 'Nothing', \"It's Too Late, Baby Too Late\", 'Good Life', 'One Night In Bangkok', 'Every Little Thing', 'Why? (Am I Treated So Bad)', 'The Longest Time', 'Baby Love', 'Heart Hotels', 'Glycerine', 'Madness', 'Baby What I Mean', 'Cherish', 'Bring On The Rain', 'White Liar', 'Just Another Case', 'My First Love', 'Love Is', \"Can't Cry Anymore\", 'All I Could Do Was Cry', 'Know Yourself', 'Gett Off', 'Brown Sugar', 'Rosealia', 'Sugar Cane', 'Brand New Lover', 'Night Train', 'Daisy Mae', 'I Love My Friend', 'Action', 'A House Is Not A Home', \"Jeremiah Peabody's Poly Unsaturated Quick Dissolving Fast Acting Pleasant T\", 'I Waited Too Long', 'No Letting Go', \"We're In This Love Together\", 'You', 'Fastlove', \"And I Am Telling You I'm Not Going\", 'The Great Beyond', 'Before I Let Go', 'Cloud Nine', 'Twixt Twelve And Twenty', \"That's What I'm Looking For\", 'All The Pretty Girls', 'When She Was My Girl', 'Got A Hold On Me', 'All By Myself', 'Always', 'Baby Face', 'Crazy', 'The Mouse', 'Count On Me', 'River', 'Remedy', 'Got To Give It Up (Pt. I)', 'Just The Two Of Us']\n"
     ]
    }
   ],
   "source": [
    "# allocate the sample size and how many samples we are adding\n",
    "SAMPLE_SIZE = 3000\n",
    "DATASET_SIZE = len(song_names_bill)\n",
    "collected_songs_name = []\n",
    "collected_songs_artist = []\n",
    "\n",
    "# Now take a random sample of 1000 songs, making sure that they do not match the already fetched songs.\n",
    "\n",
    "# Collect a new random number, if it has already been picked, then pick a new one, if not then add it to the list\n",
    "collected_randoms = []\n",
    "def withdraw_random():\n",
    "    sample_no = rand.randint(0, DATASET_SIZE)\n",
    "    if (sample_no in collected_randoms):\n",
    "        collected_randoms.append(sample_no)\n",
    "        return withdraw_random()\n",
    "    else:\n",
    "        return sample_no\n",
    "\n",
    "\n",
    "for i in range(0, SAMPLE_SIZE):\n",
    "    sample_no = withdraw_random()\n",
    "    collected_songs_name.append(song_names_bill[sample_no])\n",
    "    collected_songs_artist.append(artist_names_bill[sample_no])\n",
    "    \n",
    "print(collected_songs_name)\n"
   ]
  },
  {
   "cell_type": "code",
   "execution_count": 20,
   "metadata": {},
   "outputs": [
    {
     "output_type": "error",
     "ename": "NameError",
     "evalue": "name 'songnamelist' is not defined",
     "traceback": [
      "\u001b[1;31m---------------------------------------------------------------------------\u001b[0m",
      "\u001b[1;31mNameError\u001b[0m                                 Traceback (most recent call last)",
      "\u001b[1;32m<ipython-input-20-7bad2b937bba>\u001b[0m in \u001b[0;36m<module>\u001b[1;34m\u001b[0m\n\u001b[0;32m     14\u001b[0m \u001b[1;33m\u001b[0m\u001b[0m\n\u001b[0;32m     15\u001b[0m \u001b[1;31m# keeps track of where the dataset should be added to, as some errors may occur and features not able to be found on spotify\u001b[0m\u001b[1;33m\u001b[0m\u001b[1;33m\u001b[0m\u001b[1;33m\u001b[0m\u001b[0m\n\u001b[1;32m---> 16\u001b[1;33m \u001b[0mNUMBER_OF_ROWS\u001b[0m \u001b[1;33m=\u001b[0m \u001b[0mlen\u001b[0m\u001b[1;33m(\u001b[0m\u001b[0msongnamelist\u001b[0m\u001b[1;33m)\u001b[0m\u001b[1;33m\u001b[0m\u001b[1;33m\u001b[0m\u001b[0m\n\u001b[0m\u001b[0;32m     17\u001b[0m \u001b[0mnext_dataset_row\u001b[0m \u001b[1;33m=\u001b[0m \u001b[1;36m0\u001b[0m\u001b[1;33m\u001b[0m\u001b[1;33m\u001b[0m\u001b[0m\n\u001b[0;32m     18\u001b[0m \u001b[1;33m\u001b[0m\u001b[0m\n",
      "\u001b[1;31mNameError\u001b[0m: name 'songnamelist' is not defined"
     ]
    }
   ],
   "source": [
    "# Now use that data on the spotify api\n",
    "# create a reference to my api\n",
    "\n",
    "# THIS is for use with datasets that ARE TOP 100, and so it will always have the value of 1\n",
    "\n",
    "\n",
    "spotify = SpotifyAPIWrapper()\n",
    "spotify.get_spotify_api_token()\n",
    "\n",
    "# check that the songname list and artistnamelist are the same length\n",
    "# if (len(songnamelist) != len(artistnamelist)):\n",
    "#     print(\"The two lists are not of the same length\")\n",
    "#     return False\n",
    "\n",
    "# keeps track of where the dataset should be added to, as some errors may occur and features not able to be found on spotify\n",
    "NUMBER_OF_ROWS = len(collected_songs_name)\n",
    "next_dataset_row = 0\n",
    "\n",
    "# declare a response dataframe\n",
    "outputframe_more = pd.DataFrame(columns=(\"Artist name\", \"Title\", \"spotify_id\", \"acousticness\", \"dancability\", \"energy\", \"instrumentalness\", \"key\", \"liveness\", \"loudness\", \"mode\", \"speechiness\", \"tempo\", \"valence\", \"isTop100\"), index=np.arange(0,NUMBER_OF_ROWS))\n",
    "\n",
    "# for our test set of 10 songs\n",
    "for i in range(0 ,NUMBER_OF_ROWS):\n",
    "    title = collected_songs_name[i]\n",
    "    artist = collected_songs_artist[i]\n",
    "    isTop100 = 1\n",
    "\n",
    "    # get the relevant song id\n",
    "    songid = spotify.search_spotify_song_id(artist_name=artist, song_name=title)\n",
    "    \n",
    "    # check for None being returned for failed results\n",
    "    if (songid != False):\n",
    "        # get the features from the api\n",
    "        features = spotify.get_features_from_id(songid)\n",
    "        if (features != False):\n",
    "            # Add the features to a new row in a new dataframe\n",
    "            outputframe_more.loc[next_dataset_row] = [artist, title, features[\"id\"], features[\"acousticness\"], features[\"danceability\"], features[\"energy\"], features[\"instrumentalness\"], features[\"key\"], features[\"liveness\"], features[\"loudness\"], features[\"mode\"], features[\"speechiness\"], features[\"tempo\"], features[\"valence\"], isTop100]\n",
    "\n",
    "            # increment the next row to enter to\n",
    "            next_dataset_row = next_dataset_row + 1\n",
    "\n",
    "\n",
    "print(outputframe_more)"
   ]
  },
  {
   "cell_type": "code",
   "execution_count": 10,
   "metadata": {
    "tags": [
     "outputPrepend"
    ]
   },
   "outputs": [
    {
     "output_type": "stream",
     "name": "stdout",
     "text": [
      "is_url': 'https://api.spotify.com/v1/audio-analysis/2ScFhA8p6gkIfLNjzK0fun', 'duration_ms': 249613, 'time_signature': 3}\n",
      "searching endpointhttps://api.spotify.com/v1/search?type=track&q=Lonestar+Mr.%20Mom\n",
      "{'danceability': 0.505, 'energy': 0.842, 'key': 10, 'loudness': -3.316, 'mode': 1, 'speechiness': 0.0475, 'acousticness': 0.0576, 'instrumentalness': 0, 'liveness': 0.111, 'valence': 0.671, 'tempo': 172.136, 'type': 'audio_features', 'id': '0jSIovJtKxEXH6vI4oRx7I', 'uri': 'spotify:track:0jSIovJtKxEXH6vI4oRx7I', 'track_href': 'https://api.spotify.com/v1/tracks/0jSIovJtKxEXH6vI4oRx7I', 'analysis_url': 'https://api.spotify.com/v1/audio-analysis/0jSIovJtKxEXH6vI4oRx7I', 'duration_ms': 208693, 'time_signature': 4}\n",
      "searching endpointhttps://api.spotify.com/v1/search?type=track&q=Gary%20Toms%20Empire+Drive%20My%20Car\n",
      "{'danceability': 0.802, 'energy': 0.683, 'key': 0, 'loudness': -8.909, 'mode': 1, 'speechiness': 0.0425, 'acousticness': 0.056, 'instrumentalness': 2.39e-05, 'liveness': 0.0662, 'valence': 0.939, 'tempo': 124.35, 'type': 'audio_features', 'id': '4c7fW6ssLObaEwGgW4niAg', 'uri': 'spotify:track:4c7fW6ssLObaEwGgW4niAg', 'track_href': 'https://api.spotify.com/v1/tracks/4c7fW6ssLObaEwGgW4niAg', 'analysis_url': 'https://api.spotify.com/v1/audio-analysis/4c7fW6ssLObaEwGgW4niAg', 'duration_ms': 348015, 'time_signature': 4}\n",
      "searching endpointhttps://api.spotify.com/v1/search?type=track&q=Shinedown+Save%20Me\n",
      "{'danceability': 0.524, 'energy': 0.816, 'key': 11, 'loudness': -3.49, 'mode': 0, 'speechiness': 0.0308, 'acousticness': 0.00044, 'instrumentalness': 0, 'liveness': 0.0777, 'valence': 0.252, 'tempo': 116.026, 'type': 'audio_features', 'id': '23SlyxzUtQtExgEButcOtR', 'uri': 'spotify:track:23SlyxzUtQtExgEButcOtR', 'track_href': 'https://api.spotify.com/v1/tracks/23SlyxzUtQtExgEButcOtR', 'analysis_url': 'https://api.spotify.com/v1/audio-analysis/23SlyxzUtQtExgEButcOtR', 'duration_ms': 213933, 'time_signature': 4}\n",
      "searching endpointhttps://api.spotify.com/v1/search?type=track&q=Shanice+Saving%20Forever%20For%20You%20%28From%20%22Beverly%20Hills%2C%2090210%22%29\n",
      "Song not found - Shanice, Saving Forever For You (From \"Beverly Hills, 90210\")\n",
      "searching endpointhttps://api.spotify.com/v1/search?type=track&q=Raybon%20Bros.+Butterfly%20Kisses\n",
      "{'danceability': 0.354, 'energy': 0.368, 'key': 10, 'loudness': -9.617, 'mode': 1, 'speechiness': 0.0265, 'acousticness': 0.533, 'instrumentalness': 0, 'liveness': 0.0856, 'valence': 0.132, 'tempo': 84.197, 'type': 'audio_features', 'id': '6dbQJo0gD0X8Pbpl9itIEj', 'uri': 'spotify:track:6dbQJo0gD0X8Pbpl9itIEj', 'track_href': 'https://api.spotify.com/v1/tracks/6dbQJo0gD0X8Pbpl9itIEj', 'analysis_url': 'https://api.spotify.com/v1/audio-analysis/6dbQJo0gD0X8Pbpl9itIEj', 'duration_ms': 284920, 'time_signature': 4}\n",
      "searching endpointhttps://api.spotify.com/v1/search?type=track&q=Gale%20Garnett+Lovin%27%20Place\n",
      "{'danceability': 0.673, 'energy': 0.501, 'key': 4, 'loudness': -8.897, 'mode': 0, 'speechiness': 0.0343, 'acousticness': 0.715, 'instrumentalness': 0, 'liveness': 0.143, 'valence': 0.922, 'tempo': 104.087, 'type': 'audio_features', 'id': '0SOKP5hmHlaQwb4ib522Wn', 'uri': 'spotify:track:0SOKP5hmHlaQwb4ib522Wn', 'track_href': 'https://api.spotify.com/v1/tracks/0SOKP5hmHlaQwb4ib522Wn', 'analysis_url': 'https://api.spotify.com/v1/audio-analysis/0SOKP5hmHlaQwb4ib522Wn', 'duration_ms': 157840, 'time_signature': 4}\n",
      "searching endpointhttps://api.spotify.com/v1/search?type=track&q=Andy%20Griggs+I%27ll%20Go%20Crazy\n",
      "{'danceability': 0.683, 'energy': 0.635, 'key': 2, 'loudness': -9.027, 'mode': 1, 'speechiness': 0.0323, 'acousticness': 0.00158, 'instrumentalness': 0, 'liveness': 0.191, 'valence': 0.338, 'tempo': 110.926, 'type': 'audio_features', 'id': '0trmMvSTIhKC4ZFUimbLlI', 'uri': 'spotify:track:0trmMvSTIhKC4ZFUimbLlI', 'track_href': 'https://api.spotify.com/v1/tracks/0trmMvSTIhKC4ZFUimbLlI', 'analysis_url': 'https://api.spotify.com/v1/audio-analysis/0trmMvSTIhKC4ZFUimbLlI', 'duration_ms': 184160, 'time_signature': 4}\n",
      "searching endpointhttps://api.spotify.com/v1/search?type=track&q=Henry%20Gross+Shannon\n",
      "{'danceability': 0.558, 'energy': 0.36, 'key': 5, 'loudness': -11.771, 'mode': 1, 'speechiness': 0.0232, 'acousticness': 0.23, 'instrumentalness': 0.00248, 'liveness': 0.18, 'valence': 0.509, 'tempo': 87.838, 'type': 'audio_features', 'id': '4IYoyOVK9oQyJS1QZt5Vyj', 'uri': 'spotify:track:4IYoyOVK9oQyJS1QZt5Vyj', 'track_href': 'https://api.spotify.com/v1/tracks/4IYoyOVK9oQyJS1QZt5Vyj', 'analysis_url': 'https://api.spotify.com/v1/audio-analysis/4IYoyOVK9oQyJS1QZt5Vyj', 'duration_ms': 233677, 'time_signature': 4}\n",
      "searching endpointhttps://api.spotify.com/v1/search?type=track&q=Bad%20Bunny%20Featuring%20Drake+MIA\n",
      "Song not found - Bad Bunny Featuring Drake, MIA\n",
      "searching endpointhttps://api.spotify.com/v1/search?type=track&q=Bruno%20Mars+It%20Will%20Rain\n",
      "{'danceability': 0.576, 'energy': 0.835, 'key': 2, 'loudness': -6.826, 'mode': 1, 'speechiness': 0.0486, 'acousticness': 0.337, 'instrumentalness': 0, 'liveness': 0.082, 'valence': 0.476, 'tempo': 150.017, 'type': 'audio_features', 'id': '0RUGuh2uSNFJpGMSsD1F5C', 'uri': 'spotify:track:0RUGuh2uSNFJpGMSsD1F5C', 'track_href': 'https://api.spotify.com/v1/tracks/0RUGuh2uSNFJpGMSsD1F5C', 'analysis_url': 'https://api.spotify.com/v1/audio-analysis/0RUGuh2uSNFJpGMSsD1F5C', 'duration_ms': 257720, 'time_signature': 4}\n",
      "searching endpointhttps://api.spotify.com/v1/search?type=track&q=MAGIC%21+Rude\n",
      "{'danceability': 0.774, 'energy': 0.756, 'key': 1, 'loudness': -4.995, 'mode': 1, 'speechiness': 0.0389, 'acousticness': 0.0423, 'instrumentalness': 0, 'liveness': 0.305, 'valence': 0.931, 'tempo': 144.032, 'type': 'audio_features', 'id': '6RtPijgfPKROxEzTHNRiDp', 'uri': 'spotify:track:6RtPijgfPKROxEzTHNRiDp', 'track_href': 'https://api.spotify.com/v1/tracks/6RtPijgfPKROxEzTHNRiDp', 'analysis_url': 'https://api.spotify.com/v1/audio-analysis/6RtPijgfPKROxEzTHNRiDp', 'duration_ms': 224840, 'time_signature': 4}\n",
      "searching endpointhttps://api.spotify.com/v1/search?type=track&q=Petula%20Clark+Wedding%20Song%20%28There%20Is%20Love%29\n",
      "{'danceability': 0.428, 'energy': 0.458, 'key': 0, 'loudness': -6.779, 'mode': 1, 'speechiness': 0.0267, 'acousticness': 0.726, 'instrumentalness': 6.77e-06, 'liveness': 0.119, 'valence': 0.251, 'tempo': 146.845, 'type': 'audio_features', 'id': '3vGXU8AxtVrlHrmiIM9qRN', 'uri': 'spotify:track:3vGXU8AxtVrlHrmiIM9qRN', 'track_href': 'https://api.spotify.com/v1/tracks/3vGXU8AxtVrlHrmiIM9qRN', 'analysis_url': 'https://api.spotify.com/v1/audio-analysis/3vGXU8AxtVrlHrmiIM9qRN', 'duration_ms': 195027, 'time_signature': 4}\n",
      "searching endpointhttps://api.spotify.com/v1/search?type=track&q=J.%20Cole+Apparently\n",
      "{'danceability': 0.8, 'energy': 0.543, 'key': 5, 'loudness': -9.236, 'mode': 1, 'speechiness': 0.0911, 'acousticness': 0.564, 'instrumentalness': 0, 'liveness': 0.116, 'valence': 0.534, 'tempo': 133.98, 'type': 'audio_features', 'id': '1HNs07uZxZniPNmniw2GTa', 'uri': 'spotify:track:1HNs07uZxZniPNmniw2GTa', 'track_href': 'https://api.spotify.com/v1/tracks/1HNs07uZxZniPNmniw2GTa', 'analysis_url': 'https://api.spotify.com/v1/audio-analysis/1HNs07uZxZniPNmniw2GTa', 'duration_ms': 293040, 'time_signature': 4}\n",
      "searching endpointhttps://api.spotify.com/v1/search?type=track&q=OutKast+Southernplayalisticadillacmuzik\n",
      "{'danceability': 0.691, 'energy': 0.834, 'key': 10, 'loudness': -5.802, 'mode': 0, 'speechiness': 0.225, 'acousticness': 0.0161, 'instrumentalness': 0, 'liveness': 0.0559, 'valence': 0.579, 'tempo': 172.387, 'type': 'audio_features', 'id': '2pMAmZdHfQHyqJCXJbfhK3', 'uri': 'spotify:track:2pMAmZdHfQHyqJCXJbfhK3', 'track_href': 'https://api.spotify.com/v1/tracks/2pMAmZdHfQHyqJCXJbfhK3', 'analysis_url': 'https://api.spotify.com/v1/audio-analysis/2pMAmZdHfQHyqJCXJbfhK3', 'duration_ms': 317507, 'time_signature': 4}\n",
      "searching endpointhttps://api.spotify.com/v1/search?type=track&q=New%20Boyz%20Featuring%20Ray%20J+Tie%20Me%20Down\n",
      "{'danceability': 0.363, 'energy': 0.476, 'key': 0, 'loudness': -10.552, 'mode': 0, 'speechiness': 0.0438, 'acousticness': 0.0132, 'instrumentalness': 0.564, 'liveness': 0.312, 'valence': 0.32, 'tempo': 100.434, 'type': 'audio_features', 'id': '7ElAzOTRJi8GWmfxM5dxF8', 'uri': 'spotify:track:7ElAzOTRJi8GWmfxM5dxF8', 'track_href': 'https://api.spotify.com/v1/tracks/7ElAzOTRJi8GWmfxM5dxF8', 'analysis_url': 'https://api.spotify.com/v1/audio-analysis/7ElAzOTRJi8GWmfxM5dxF8', 'duration_ms': 178040, 'time_signature': 4}\n",
      "searching endpointhttps://api.spotify.com/v1/search?type=track&q=Justin%20Bieber+One%20Time\n",
      "{'danceability': 0.691, 'energy': 0.853, 'key': 1, 'loudness': -2.528, 'mode': 0, 'speechiness': 0.0372, 'acousticness': 0.0631, 'instrumentalness': 7.13e-05, 'liveness': 0.082, 'valence': 0.762, 'tempo': 145.999, 'type': 'audio_features', 'id': '6eDApnV9Jdb1nYahOlbbUh', 'uri': 'spotify:track:6eDApnV9Jdb1nYahOlbbUh', 'track_href': 'https://api.spotify.com/v1/tracks/6eDApnV9Jdb1nYahOlbbUh', 'analysis_url': 'https://api.spotify.com/v1/audio-analysis/6eDApnV9Jdb1nYahOlbbUh', 'duration_ms': 215867, 'time_signature': 4}\n",
      "searching endpointhttps://api.spotify.com/v1/search?type=track&q=George%20Harrison+What%20Is%20Life\n",
      "{'danceability': 0.468, 'energy': 0.833, 'key': 4, 'loudness': -5.847, 'mode': 1, 'speechiness': 0.0324, 'acousticness': 0.00654, 'instrumentalness': 0.000332, 'liveness': 0.326, 'valence': 0.884, 'tempo': 131.248, 'type': 'audio_features', 'id': '76TpWFiK5YCgw1hy26DWZp', 'uri': 'spotify:track:76TpWFiK5YCgw1hy26DWZp', 'track_href': 'https://api.spotify.com/v1/tracks/76TpWFiK5YCgw1hy26DWZp', 'analysis_url': 'https://api.spotify.com/v1/audio-analysis/76TpWFiK5YCgw1hy26DWZp', 'duration_ms': 264413, 'time_signature': 4}\n",
      "searching endpointhttps://api.spotify.com/v1/search?type=track&q=Debbie%20Gibson+Losin%27%20Myself\n",
      "{'danceability': 0.721, 'energy': 0.673, 'key': 5, 'loudness': -10.522, 'mode': 0, 'speechiness': 0.0388, 'acousticness': 0.028, 'instrumentalness': 0.000142, 'liveness': 0.0848, 'valence': 0.59, 'tempo': 94.909, 'type': 'audio_features', 'id': '3qfKjCpgrdMBFkY3OBb2pf', 'uri': 'spotify:track:3qfKjCpgrdMBFkY3OBb2pf', 'track_href': 'https://api.spotify.com/v1/tracks/3qfKjCpgrdMBFkY3OBb2pf', 'analysis_url': 'https://api.spotify.com/v1/audio-analysis/3qfKjCpgrdMBFkY3OBb2pf', 'duration_ms': 246467, 'time_signature': 4}\n",
      "searching endpointhttps://api.spotify.com/v1/search?type=track&q=Buck%2022%20Featuring%20Billy%20Ray%20Cyrus+Achy%20Breaky%202\n",
      "Song not found - Buck 22 Featuring Billy Ray Cyrus, Achy Breaky 2\n",
      "searching endpointhttps://api.spotify.com/v1/search?type=track&q=Yvonne%20Elliman+Love%20Me\n",
      "{'danceability': 0.62, 'energy': 0.675, 'key': 4, 'loudness': -8.381, 'mode': 0, 'speechiness': 0.0684, 'acousticness': 0.607, 'instrumentalness': 0, 'liveness': 0.16, 'valence': 0.839, 'tempo': 149.453, 'type': 'audio_features', 'id': '3lJwMYfT8qPW3KvISZPQK5', 'uri': 'spotify:track:3lJwMYfT8qPW3KvISZPQK5', 'track_href': 'https://api.spotify.com/v1/tracks/3lJwMYfT8qPW3KvISZPQK5', 'analysis_url': 'https://api.spotify.com/v1/audio-analysis/3lJwMYfT8qPW3KvISZPQK5', 'duration_ms': 202160, 'time_signature': 4}\n",
      "searching endpointhttps://api.spotify.com/v1/search?type=track&q=Mr.%20Big+Romeo\n",
      "{'danceability': 0.309, 'energy': 0.797, 'key': 9, 'loudness': -7.739, 'mode': 1, 'speechiness': 0.0648, 'acousticness': 0.00598, 'instrumentalness': 0, 'liveness': 0.0337, 'valence': 0.331, 'tempo': 111.589, 'type': 'audio_features', 'id': '11qWJPo1l6xt7ObQKfoCbS', 'uri': 'spotify:track:11qWJPo1l6xt7ObQKfoCbS', 'track_href': 'https://api.spotify.com/v1/tracks/11qWJPo1l6xt7ObQKfoCbS', 'analysis_url': 'https://api.spotify.com/v1/audio-analysis/11qWJPo1l6xt7ObQKfoCbS', 'duration_ms': 162373, 'time_signature': 4}\n",
      "searching endpointhttps://api.spotify.com/v1/search?type=track&q=Bobby%20Vinton+Blue%20On%20Blue\n",
      "{'danceability': 0.607, 'energy': 0.303, 'key': 10, 'loudness': -10.065, 'mode': 1, 'speechiness': 0.0244, 'acousticness': 0.817, 'instrumentalness': 0, 'liveness': 0.183, 'valence': 0.555, 'tempo': 97.383, 'type': 'audio_features', 'id': '5n6zROqnqMtYXfQ2vazEaz', 'uri': 'spotify:track:5n6zROqnqMtYXfQ2vazEaz', 'track_href': 'https://api.spotify.com/v1/tracks/5n6zROqnqMtYXfQ2vazEaz', 'analysis_url': 'https://api.spotify.com/v1/audio-analysis/5n6zROqnqMtYXfQ2vazEaz', 'duration_ms': 144533, 'time_signature': 4}\n",
      "searching endpointhttps://api.spotify.com/v1/search?type=track&q=Little%20Mix+Black%20Magic\n",
      "{'danceability': 0.776, 'energy': 0.875, 'key': 4, 'loudness': -5.535, 'mode': 1, 'speechiness': 0.0575, 'acousticness': 0.0343, 'instrumentalness': 0, 'liveness': 0.314, 'valence': 0.849, 'tempo': 111.988, 'type': 'audio_features', 'id': '6rmXhRIemCTPyMYZRDN7Qg', 'uri': 'spotify:track:6rmXhRIemCTPyMYZRDN7Qg', 'track_href': 'https://api.spotify.com/v1/tracks/6rmXhRIemCTPyMYZRDN7Qg', 'analysis_url': 'https://api.spotify.com/v1/audio-analysis/6rmXhRIemCTPyMYZRDN7Qg', 'duration_ms': 211786, 'time_signature': 4}\n",
      "searching endpointhttps://api.spotify.com/v1/search?type=track&q=Martina%20McBride+Whatever%20You%20Say\n",
      "{'danceability': 0.456, 'energy': 0.649, 'key': 8, 'loudness': -6.157, 'mode': 1, 'speechiness': 0.0265, 'acousticness': 0.0323, 'instrumentalness': 4.02e-06, 'liveness': 0.0461, 'valence': 0.0763, 'tempo': 152.957, 'type': 'audio_features', 'id': '2fwTF4pELhEkd6sk3D1PnL', 'uri': 'spotify:track:2fwTF4pELhEkd6sk3D1PnL', 'track_href': 'https://api.spotify.com/v1/tracks/2fwTF4pELhEkd6sk3D1PnL', 'analysis_url': 'https://api.spotify.com/v1/audio-analysis/2fwTF4pELhEkd6sk3D1PnL', 'duration_ms': 269893, 'time_signature': 4}\n",
      "searching endpointhttps://api.spotify.com/v1/search?type=track&q=12%20Gauge+Dunkie%20Butt%20%28Please%20Please%20Please%29\n",
      "{'danceability': 0.74, 'energy': 0.734, 'key': 8, 'loudness': -15.458, 'mode': 1, 'speechiness': 0.112, 'acousticness': 0.000144, 'instrumentalness': 0.373, 'liveness': 0.142, 'valence': 0.409, 'tempo': 150.887, 'type': 'audio_features', 'id': '6IodA4J5U8wJqeHmtqU610', 'uri': 'spotify:track:6IodA4J5U8wJqeHmtqU610', 'track_href': 'https://api.spotify.com/v1/tracks/6IodA4J5U8wJqeHmtqU610', 'analysis_url': 'https://api.spotify.com/v1/audio-analysis/6IodA4J5U8wJqeHmtqU610', 'duration_ms': 232000, 'time_signature': 4}\n",
      "searching endpointhttps://api.spotify.com/v1/search?type=track&q=Phil%20Collins+Groovy%20Kind%20Of%20Love\n",
      "{'danceability': 0.452, 'energy': 0.306, 'key': 2, 'loudness': -9.632, 'mode': 1, 'speechiness': 0.0274, 'acousticness': 0.235, 'instrumentalness': 1.91e-05, 'liveness': 0.0989, 'valence': 0.182, 'tempo': 144.125, 'type': 'audio_features', 'id': '5OHUTC4EvTbL0DuZQRIGGX', 'uri': 'spotify:track:5OHUTC4EvTbL0DuZQRIGGX', 'track_href': 'https://api.spotify.com/v1/tracks/5OHUTC4EvTbL0DuZQRIGGX', 'analysis_url': 'https://api.spotify.com/v1/audio-analysis/5OHUTC4EvTbL0DuZQRIGGX', 'duration_ms': 210733, 'time_signature': 4}\n",
      "searching endpointhttps://api.spotify.com/v1/search?type=track&q=Maxi%20Priest+Groovin%27%20In%20The%20Midnight\n",
      "{'danceability': 0.546, 'energy': 0.619, 'key': 10, 'loudness': -9.184, 'mode': 0, 'speechiness': 0.0429, 'acousticness': 0.0444, 'instrumentalness': 3.7e-05, 'liveness': 0.0677, 'valence': 0.539, 'tempo': 92.829, 'type': 'audio_features', 'id': '4X3RReLZBzmXfmE5G08HL2', 'uri': 'spotify:track:4X3RReLZBzmXfmE5G08HL2', 'track_href': 'https://api.spotify.com/v1/tracks/4X3RReLZBzmXfmE5G08HL2', 'analysis_url': 'https://api.spotify.com/v1/audio-analysis/4X3RReLZBzmXfmE5G08HL2', 'duration_ms': 297533, 'time_signature': 4}\n",
      "searching endpointhttps://api.spotify.com/v1/search?type=track&q=Gloria%20Estefan+Here%20We%20Are\n",
      "{'danceability': 0.694, 'energy': 0.467, 'key': 9, 'loudness': -14.437, 'mode': 1, 'speechiness': 0.0329, 'acousticness': 0.639, 'instrumentalness': 1.61e-05, 'liveness': 0.0869, 'valence': 0.63, 'tempo': 142.132, 'type': 'audio_features', 'id': '4asTNYhhrp323lLp81KIKQ', 'uri': 'spotify:track:4asTNYhhrp323lLp81KIKQ', 'track_href': 'https://api.spotify.com/v1/tracks/4asTNYhhrp323lLp81KIKQ', 'analysis_url': 'https://api.spotify.com/v1/audio-analysis/4asTNYhhrp323lLp81KIKQ', 'duration_ms': 289707, 'time_signature': 4}\n",
      "searching endpointhttps://api.spotify.com/v1/search?type=track&q=69%20Boyz+Tootsee%20Roll\n",
      "{'danceability': 0.869, 'energy': 0.725, 'key': 9, 'loudness': -12.507, 'mode': 0, 'speechiness': 0.256, 'acousticness': 0.0453, 'instrumentalness': 0, 'liveness': 0.203, 'valence': 0.699, 'tempo': 132.989, 'type': 'audio_features', 'id': '0SAIjVOwxVnO1l9HGvLuOU', 'uri': 'spotify:track:0SAIjVOwxVnO1l9HGvLuOU', 'track_href': 'https://api.spotify.com/v1/tracks/0SAIjVOwxVnO1l9HGvLuOU', 'analysis_url': 'https://api.spotify.com/v1/audio-analysis/0SAIjVOwxVnO1l9HGvLuOU', 'duration_ms': 261360, 'time_signature': 4}\n",
      "searching endpointhttps://api.spotify.com/v1/search?type=track&q=Adina%20Howard+Freak%20Like%20Me\n",
      "{'danceability': 0.655, 'energy': 0.837, 'key': 11, 'loudness': -6.04, 'mode': 0, 'speechiness': 0.0723, 'acousticness': 0.0262, 'instrumentalness': 5.85e-06, 'liveness': 0.0454, 'valence': 0.66, 'tempo': 91.014, 'type': 'audio_features', 'id': '6Vas6h9lB5mmeVDXdFqlQA', 'uri': 'spotify:track:6Vas6h9lB5mmeVDXdFqlQA', 'track_href': 'https://api.spotify.com/v1/tracks/6Vas6h9lB5mmeVDXdFqlQA', 'analysis_url': 'https://api.spotify.com/v1/audio-analysis/6Vas6h9lB5mmeVDXdFqlQA', 'duration_ms': 253613, 'time_signature': 4}\n",
      "searching endpointhttps://api.spotify.com/v1/search?type=track&q=Jason%20Derulo%20Featuring%202%20Chainz+Talk%20Dirty\n",
      "Song not found - Jason Derulo Featuring 2 Chainz, Talk Dirty\n",
      "searching endpointhttps://api.spotify.com/v1/search?type=track&q=The%20Crests+The%20Angels%20Listened%20In\n",
      "{'danceability': 0.534, 'energy': 0.559, 'key': 0, 'loudness': -10.264, 'mode': 1, 'speechiness': 0.0682, 'acousticness': 0.63, 'instrumentalness': 0, 'liveness': 0.362, 'valence': 0.868, 'tempo': 147.101, 'type': 'audio_features', 'id': '5aXXUbzXqdMyCgC7E6jdTs', 'uri': 'spotify:track:5aXXUbzXqdMyCgC7E6jdTs', 'track_href': 'https://api.spotify.com/v1/tracks/5aXXUbzXqdMyCgC7E6jdTs', 'analysis_url': 'https://api.spotify.com/v1/audio-analysis/5aXXUbzXqdMyCgC7E6jdTs', 'duration_ms': 125440, 'time_signature': 4}\n",
      "searching endpointhttps://api.spotify.com/v1/search?type=track&q=Eric%20Clapton+Change%20The%20World\n",
      "{'danceability': 0.721, 'energy': 0.558, 'key': 9, 'loudness': -8.8, 'mode': 1, 'speechiness': 0.0246, 'acousticness': 0.492, 'instrumentalness': 0.00563, 'liveness': 0.113, 'valence': 0.542, 'tempo': 96.887, 'type': 'audio_features', 'id': '6BQNJ0JFKh8sWjQLI6Zudi', 'uri': 'spotify:track:6BQNJ0JFKh8sWjQLI6Zudi', 'track_href': 'https://api.spotify.com/v1/tracks/6BQNJ0JFKh8sWjQLI6Zudi', 'analysis_url': 'https://api.spotify.com/v1/audio-analysis/6BQNJ0JFKh8sWjQLI6Zudi', 'duration_ms': 234867, 'time_signature': 4}\n",
      "searching endpointhttps://api.spotify.com/v1/search?type=track&q=Glen%20Campbell+I%20Wanna%20Live\n",
      "{'danceability': 0.406, 'energy': 0.654, 'key': 1, 'loudness': -5.356, 'mode': 1, 'speechiness': 0.0249, 'acousticness': 0.00183, 'instrumentalness': 1.99e-06, 'liveness': 0.104, 'valence': 0.532, 'tempo': 143.658, 'type': 'audio_features', 'id': '7D2GAOzzB2pm8DuStFCX1Y', 'uri': 'spotify:track:7D2GAOzzB2pm8DuStFCX1Y', 'track_href': 'https://api.spotify.com/v1/tracks/7D2GAOzzB2pm8DuStFCX1Y', 'analysis_url': 'https://api.spotify.com/v1/audio-analysis/7D2GAOzzB2pm8DuStFCX1Y', 'duration_ms': 167093, 'time_signature': 3}\n",
      "searching endpointhttps://api.spotify.com/v1/search?type=track&q=TLC+Creep\n",
      "{'danceability': 0.811, 'energy': 0.458, 'key': 5, 'loudness': -9.688, 'mode': 0, 'speechiness': 0.0402, 'acousticness': 0.0193, 'instrumentalness': 1.41e-06, 'liveness': 0.0526, 'valence': 0.797, 'tempo': 92.94, 'type': 'audio_features', 'id': '1aWV3uY3SIEZVbmv45oFWS', 'uri': 'spotify:track:1aWV3uY3SIEZVbmv45oFWS', 'track_href': 'https://api.spotify.com/v1/tracks/1aWV3uY3SIEZVbmv45oFWS', 'analysis_url': 'https://api.spotify.com/v1/audio-analysis/1aWV3uY3SIEZVbmv45oFWS', 'duration_ms': 268533, 'time_signature': 4}\n",
      "searching endpointhttps://api.spotify.com/v1/search?type=track&q=Poco+Crazy%20Love\n"
     ]
    },
    {
     "output_type": "error",
     "ename": "TypeError",
     "evalue": "can only concatenate str (not \"SSLError\") to str",
     "traceback": [
      "\u001b[1;31m---------------------------------------------------------------------------\u001b[0m",
      "\u001b[1;31mSysCallError\u001b[0m                              Traceback (most recent call last)",
      "\u001b[1;32m~\\anaconda3\\lib\\site-packages\\urllib3\\contrib\\pyopenssl.py\u001b[0m in \u001b[0;36mwrap_socket\u001b[1;34m(self, sock, server_side, do_handshake_on_connect, suppress_ragged_eofs, server_hostname)\u001b[0m\n\u001b[0;32m    484\u001b[0m             \u001b[1;32mtry\u001b[0m\u001b[1;33m:\u001b[0m\u001b[1;33m\u001b[0m\u001b[1;33m\u001b[0m\u001b[0m\n\u001b[1;32m--> 485\u001b[1;33m                 \u001b[0mcnx\u001b[0m\u001b[1;33m.\u001b[0m\u001b[0mdo_handshake\u001b[0m\u001b[1;33m(\u001b[0m\u001b[1;33m)\u001b[0m\u001b[1;33m\u001b[0m\u001b[1;33m\u001b[0m\u001b[0m\n\u001b[0m\u001b[0;32m    486\u001b[0m             \u001b[1;32mexcept\u001b[0m \u001b[0mOpenSSL\u001b[0m\u001b[1;33m.\u001b[0m\u001b[0mSSL\u001b[0m\u001b[1;33m.\u001b[0m\u001b[0mWantReadError\u001b[0m\u001b[1;33m:\u001b[0m\u001b[1;33m\u001b[0m\u001b[1;33m\u001b[0m\u001b[0m\n",
      "\u001b[1;32m~\\anaconda3\\lib\\site-packages\\OpenSSL\\SSL.py\u001b[0m in \u001b[0;36mdo_handshake\u001b[1;34m(self)\u001b[0m\n\u001b[0;32m   1933\u001b[0m         \u001b[0mresult\u001b[0m \u001b[1;33m=\u001b[0m \u001b[0m_lib\u001b[0m\u001b[1;33m.\u001b[0m\u001b[0mSSL_do_handshake\u001b[0m\u001b[1;33m(\u001b[0m\u001b[0mself\u001b[0m\u001b[1;33m.\u001b[0m\u001b[0m_ssl\u001b[0m\u001b[1;33m)\u001b[0m\u001b[1;33m\u001b[0m\u001b[1;33m\u001b[0m\u001b[0m\n\u001b[1;32m-> 1934\u001b[1;33m         \u001b[0mself\u001b[0m\u001b[1;33m.\u001b[0m\u001b[0m_raise_ssl_error\u001b[0m\u001b[1;33m(\u001b[0m\u001b[0mself\u001b[0m\u001b[1;33m.\u001b[0m\u001b[0m_ssl\u001b[0m\u001b[1;33m,\u001b[0m \u001b[0mresult\u001b[0m\u001b[1;33m)\u001b[0m\u001b[1;33m\u001b[0m\u001b[1;33m\u001b[0m\u001b[0m\n\u001b[0m\u001b[0;32m   1935\u001b[0m \u001b[1;33m\u001b[0m\u001b[0m\n",
      "\u001b[1;32m~\\anaconda3\\lib\\site-packages\\OpenSSL\\SSL.py\u001b[0m in \u001b[0;36m_raise_ssl_error\u001b[1;34m(self, ssl, result)\u001b[0m\n\u001b[0;32m   1663\u001b[0m                         \u001b[1;32mraise\u001b[0m \u001b[0mSysCallError\u001b[0m\u001b[1;33m(\u001b[0m\u001b[0merrno\u001b[0m\u001b[1;33m,\u001b[0m \u001b[0merrorcode\u001b[0m\u001b[1;33m.\u001b[0m\u001b[0mget\u001b[0m\u001b[1;33m(\u001b[0m\u001b[0merrno\u001b[0m\u001b[1;33m)\u001b[0m\u001b[1;33m)\u001b[0m\u001b[1;33m\u001b[0m\u001b[1;33m\u001b[0m\u001b[0m\n\u001b[1;32m-> 1664\u001b[1;33m                 \u001b[1;32mraise\u001b[0m \u001b[0mSysCallError\u001b[0m\u001b[1;33m(\u001b[0m\u001b[1;33m-\u001b[0m\u001b[1;36m1\u001b[0m\u001b[1;33m,\u001b[0m \u001b[1;34m\"Unexpected EOF\"\u001b[0m\u001b[1;33m)\u001b[0m\u001b[1;33m\u001b[0m\u001b[1;33m\u001b[0m\u001b[0m\n\u001b[0m\u001b[0;32m   1665\u001b[0m             \u001b[1;32melse\u001b[0m\u001b[1;33m:\u001b[0m\u001b[1;33m\u001b[0m\u001b[1;33m\u001b[0m\u001b[0m\n",
      "\u001b[1;31mSysCallError\u001b[0m: (-1, 'Unexpected EOF')",
      "\nDuring handling of the above exception, another exception occurred:\n",
      "\u001b[1;31mSSLError\u001b[0m                                  Traceback (most recent call last)",
      "\u001b[1;32m~\\anaconda3\\lib\\site-packages\\urllib3\\connectionpool.py\u001b[0m in \u001b[0;36murlopen\u001b[1;34m(self, method, url, body, headers, retries, redirect, assert_same_host, timeout, pool_timeout, release_conn, chunked, body_pos, **response_kw)\u001b[0m\n\u001b[0;32m    671\u001b[0m                 \u001b[0mheaders\u001b[0m\u001b[1;33m=\u001b[0m\u001b[0mheaders\u001b[0m\u001b[1;33m,\u001b[0m\u001b[1;33m\u001b[0m\u001b[1;33m\u001b[0m\u001b[0m\n\u001b[1;32m--> 672\u001b[1;33m                 \u001b[0mchunked\u001b[0m\u001b[1;33m=\u001b[0m\u001b[0mchunked\u001b[0m\u001b[1;33m,\u001b[0m\u001b[1;33m\u001b[0m\u001b[1;33m\u001b[0m\u001b[0m\n\u001b[0m\u001b[0;32m    673\u001b[0m             )\n",
      "\u001b[1;32m~\\anaconda3\\lib\\site-packages\\urllib3\\connectionpool.py\u001b[0m in \u001b[0;36m_make_request\u001b[1;34m(self, conn, method, url, timeout, chunked, **httplib_request_kw)\u001b[0m\n\u001b[0;32m    375\u001b[0m         \u001b[1;32mtry\u001b[0m\u001b[1;33m:\u001b[0m\u001b[1;33m\u001b[0m\u001b[1;33m\u001b[0m\u001b[0m\n\u001b[1;32m--> 376\u001b[1;33m             \u001b[0mself\u001b[0m\u001b[1;33m.\u001b[0m\u001b[0m_validate_conn\u001b[0m\u001b[1;33m(\u001b[0m\u001b[0mconn\u001b[0m\u001b[1;33m)\u001b[0m\u001b[1;33m\u001b[0m\u001b[1;33m\u001b[0m\u001b[0m\n\u001b[0m\u001b[0;32m    377\u001b[0m         \u001b[1;32mexcept\u001b[0m \u001b[1;33m(\u001b[0m\u001b[0mSocketTimeout\u001b[0m\u001b[1;33m,\u001b[0m \u001b[0mBaseSSLError\u001b[0m\u001b[1;33m)\u001b[0m \u001b[1;32mas\u001b[0m \u001b[0me\u001b[0m\u001b[1;33m:\u001b[0m\u001b[1;33m\u001b[0m\u001b[1;33m\u001b[0m\u001b[0m\n",
      "\u001b[1;32m~\\anaconda3\\lib\\site-packages\\urllib3\\connectionpool.py\u001b[0m in \u001b[0;36m_validate_conn\u001b[1;34m(self, conn)\u001b[0m\n\u001b[0;32m    993\u001b[0m         \u001b[1;32mif\u001b[0m \u001b[1;32mnot\u001b[0m \u001b[0mgetattr\u001b[0m\u001b[1;33m(\u001b[0m\u001b[0mconn\u001b[0m\u001b[1;33m,\u001b[0m \u001b[1;34m\"sock\"\u001b[0m\u001b[1;33m,\u001b[0m \u001b[1;32mNone\u001b[0m\u001b[1;33m)\u001b[0m\u001b[1;33m:\u001b[0m  \u001b[1;31m# AppEngine might not have  `.sock`\u001b[0m\u001b[1;33m\u001b[0m\u001b[1;33m\u001b[0m\u001b[0m\n\u001b[1;32m--> 994\u001b[1;33m             \u001b[0mconn\u001b[0m\u001b[1;33m.\u001b[0m\u001b[0mconnect\u001b[0m\u001b[1;33m(\u001b[0m\u001b[1;33m)\u001b[0m\u001b[1;33m\u001b[0m\u001b[1;33m\u001b[0m\u001b[0m\n\u001b[0m\u001b[0;32m    995\u001b[0m \u001b[1;33m\u001b[0m\u001b[0m\n",
      "\u001b[1;32m~\\anaconda3\\lib\\site-packages\\urllib3\\connection.py\u001b[0m in \u001b[0;36mconnect\u001b[1;34m(self)\u001b[0m\n\u001b[0;32m    359\u001b[0m             \u001b[0mserver_hostname\u001b[0m\u001b[1;33m=\u001b[0m\u001b[0mserver_hostname\u001b[0m\u001b[1;33m,\u001b[0m\u001b[1;33m\u001b[0m\u001b[1;33m\u001b[0m\u001b[0m\n\u001b[1;32m--> 360\u001b[1;33m             \u001b[0mssl_context\u001b[0m\u001b[1;33m=\u001b[0m\u001b[0mcontext\u001b[0m\u001b[1;33m,\u001b[0m\u001b[1;33m\u001b[0m\u001b[1;33m\u001b[0m\u001b[0m\n\u001b[0m\u001b[0;32m    361\u001b[0m         )\n",
      "\u001b[1;32m~\\anaconda3\\lib\\site-packages\\urllib3\\util\\ssl_.py\u001b[0m in \u001b[0;36mssl_wrap_socket\u001b[1;34m(sock, keyfile, certfile, cert_reqs, ca_certs, server_hostname, ssl_version, ciphers, ssl_context, ca_cert_dir, key_password)\u001b[0m\n\u001b[0;32m    369\u001b[0m         \u001b[1;32mif\u001b[0m \u001b[0mHAS_SNI\u001b[0m \u001b[1;32mand\u001b[0m \u001b[0mserver_hostname\u001b[0m \u001b[1;32mis\u001b[0m \u001b[1;32mnot\u001b[0m \u001b[1;32mNone\u001b[0m\u001b[1;33m:\u001b[0m\u001b[1;33m\u001b[0m\u001b[1;33m\u001b[0m\u001b[0m\n\u001b[1;32m--> 370\u001b[1;33m             \u001b[1;32mreturn\u001b[0m \u001b[0mcontext\u001b[0m\u001b[1;33m.\u001b[0m\u001b[0mwrap_socket\u001b[0m\u001b[1;33m(\u001b[0m\u001b[0msock\u001b[0m\u001b[1;33m,\u001b[0m \u001b[0mserver_hostname\u001b[0m\u001b[1;33m=\u001b[0m\u001b[0mserver_hostname\u001b[0m\u001b[1;33m)\u001b[0m\u001b[1;33m\u001b[0m\u001b[1;33m\u001b[0m\u001b[0m\n\u001b[0m\u001b[0;32m    371\u001b[0m \u001b[1;33m\u001b[0m\u001b[0m\n",
      "\u001b[1;32m~\\anaconda3\\lib\\site-packages\\urllib3\\contrib\\pyopenssl.py\u001b[0m in \u001b[0;36mwrap_socket\u001b[1;34m(self, sock, server_side, do_handshake_on_connect, suppress_ragged_eofs, server_hostname)\u001b[0m\n\u001b[0;32m    490\u001b[0m             \u001b[1;32mexcept\u001b[0m \u001b[0mOpenSSL\u001b[0m\u001b[1;33m.\u001b[0m\u001b[0mSSL\u001b[0m\u001b[1;33m.\u001b[0m\u001b[0mError\u001b[0m \u001b[1;32mas\u001b[0m \u001b[0me\u001b[0m\u001b[1;33m:\u001b[0m\u001b[1;33m\u001b[0m\u001b[1;33m\u001b[0m\u001b[0m\n\u001b[1;32m--> 491\u001b[1;33m                 \u001b[1;32mraise\u001b[0m \u001b[0mssl\u001b[0m\u001b[1;33m.\u001b[0m\u001b[0mSSLError\u001b[0m\u001b[1;33m(\u001b[0m\u001b[1;34m\"bad handshake: %r\"\u001b[0m \u001b[1;33m%\u001b[0m \u001b[0me\u001b[0m\u001b[1;33m)\u001b[0m\u001b[1;33m\u001b[0m\u001b[1;33m\u001b[0m\u001b[0m\n\u001b[0m\u001b[0;32m    492\u001b[0m             \u001b[1;32mbreak\u001b[0m\u001b[1;33m\u001b[0m\u001b[1;33m\u001b[0m\u001b[0m\n",
      "\u001b[1;31mSSLError\u001b[0m: (\"bad handshake: SysCallError(-1, 'Unexpected EOF')\",)",
      "\nDuring handling of the above exception, another exception occurred:\n",
      "\u001b[1;31mMaxRetryError\u001b[0m                             Traceback (most recent call last)",
      "\u001b[1;32m~\\anaconda3\\lib\\site-packages\\requests\\adapters.py\u001b[0m in \u001b[0;36msend\u001b[1;34m(self, request, stream, timeout, verify, cert, proxies)\u001b[0m\n\u001b[0;32m    448\u001b[0m                     \u001b[0mretries\u001b[0m\u001b[1;33m=\u001b[0m\u001b[0mself\u001b[0m\u001b[1;33m.\u001b[0m\u001b[0mmax_retries\u001b[0m\u001b[1;33m,\u001b[0m\u001b[1;33m\u001b[0m\u001b[1;33m\u001b[0m\u001b[0m\n\u001b[1;32m--> 449\u001b[1;33m                     \u001b[0mtimeout\u001b[0m\u001b[1;33m=\u001b[0m\u001b[0mtimeout\u001b[0m\u001b[1;33m\u001b[0m\u001b[1;33m\u001b[0m\u001b[0m\n\u001b[0m\u001b[0;32m    450\u001b[0m                 )\n",
      "\u001b[1;32m~\\anaconda3\\lib\\site-packages\\urllib3\\connectionpool.py\u001b[0m in \u001b[0;36murlopen\u001b[1;34m(self, method, url, body, headers, retries, redirect, assert_same_host, timeout, pool_timeout, release_conn, chunked, body_pos, **response_kw)\u001b[0m\n\u001b[0;32m    719\u001b[0m             retries = retries.increment(\n\u001b[1;32m--> 720\u001b[1;33m                 \u001b[0mmethod\u001b[0m\u001b[1;33m,\u001b[0m \u001b[0murl\u001b[0m\u001b[1;33m,\u001b[0m \u001b[0merror\u001b[0m\u001b[1;33m=\u001b[0m\u001b[0me\u001b[0m\u001b[1;33m,\u001b[0m \u001b[0m_pool\u001b[0m\u001b[1;33m=\u001b[0m\u001b[0mself\u001b[0m\u001b[1;33m,\u001b[0m \u001b[0m_stacktrace\u001b[0m\u001b[1;33m=\u001b[0m\u001b[0msys\u001b[0m\u001b[1;33m.\u001b[0m\u001b[0mexc_info\u001b[0m\u001b[1;33m(\u001b[0m\u001b[1;33m)\u001b[0m\u001b[1;33m[\u001b[0m\u001b[1;36m2\u001b[0m\u001b[1;33m]\u001b[0m\u001b[1;33m\u001b[0m\u001b[1;33m\u001b[0m\u001b[0m\n\u001b[0m\u001b[0;32m    721\u001b[0m             )\n",
      "\u001b[1;32m~\\anaconda3\\lib\\site-packages\\urllib3\\util\\retry.py\u001b[0m in \u001b[0;36mincrement\u001b[1;34m(self, method, url, response, error, _pool, _stacktrace)\u001b[0m\n\u001b[0;32m    435\u001b[0m         \u001b[1;32mif\u001b[0m \u001b[0mnew_retry\u001b[0m\u001b[1;33m.\u001b[0m\u001b[0mis_exhausted\u001b[0m\u001b[1;33m(\u001b[0m\u001b[1;33m)\u001b[0m\u001b[1;33m:\u001b[0m\u001b[1;33m\u001b[0m\u001b[1;33m\u001b[0m\u001b[0m\n\u001b[1;32m--> 436\u001b[1;33m             \u001b[1;32mraise\u001b[0m \u001b[0mMaxRetryError\u001b[0m\u001b[1;33m(\u001b[0m\u001b[0m_pool\u001b[0m\u001b[1;33m,\u001b[0m \u001b[0murl\u001b[0m\u001b[1;33m,\u001b[0m \u001b[0merror\u001b[0m \u001b[1;32mor\u001b[0m \u001b[0mResponseError\u001b[0m\u001b[1;33m(\u001b[0m\u001b[0mcause\u001b[0m\u001b[1;33m)\u001b[0m\u001b[1;33m)\u001b[0m\u001b[1;33m\u001b[0m\u001b[1;33m\u001b[0m\u001b[0m\n\u001b[0m\u001b[0;32m    437\u001b[0m \u001b[1;33m\u001b[0m\u001b[0m\n",
      "\u001b[1;31mMaxRetryError\u001b[0m: HTTPSConnectionPool(host='api.spotify.com', port=443): Max retries exceeded with url: /v1/search?type=track&q=Poco+Crazy%20Love (Caused by SSLError(SSLError(\"bad handshake: SysCallError(-1, 'Unexpected EOF')\")))",
      "\nDuring handling of the above exception, another exception occurred:\n",
      "\u001b[1;31mSSLError\u001b[0m                                  Traceback (most recent call last)",
      "\u001b[1;32mc:\\Users\\schee\\Documents\\University\\4\\Machine Learning\\group assignment\\using the prepack\\spotify_api.py\u001b[0m in \u001b[0;36msearch_spotify_song_id\u001b[1;34m(self, artist_name, song_name)\u001b[0m\n\u001b[0;32m    176\u001b[0m         \u001b[1;32mtry\u001b[0m\u001b[1;33m:\u001b[0m\u001b[1;33m\u001b[0m\u001b[1;33m\u001b[0m\u001b[0m\n\u001b[1;32m--> 177\u001b[1;33m             \u001b[0mr\u001b[0m \u001b[1;33m=\u001b[0m \u001b[0mrequests\u001b[0m\u001b[1;33m.\u001b[0m\u001b[0mget\u001b[0m\u001b[1;33m(\u001b[0m\u001b[0msearch_endpoint\u001b[0m\u001b[1;33m,\u001b[0m \u001b[0mheaders\u001b[0m\u001b[1;33m=\u001b[0m\u001b[0mrequest_headers\u001b[0m\u001b[1;33m)\u001b[0m\u001b[1;33m\u001b[0m\u001b[1;33m\u001b[0m\u001b[0m\n\u001b[0m\u001b[0;32m    178\u001b[0m             \u001b[1;32mif\u001b[0m \u001b[1;33m(\u001b[0m\u001b[0mr\u001b[0m\u001b[1;33m.\u001b[0m\u001b[0mstatus_code\u001b[0m \u001b[1;32min\u001b[0m \u001b[0mrange\u001b[0m\u001b[1;33m(\u001b[0m\u001b[1;36m200\u001b[0m\u001b[1;33m,\u001b[0m\u001b[1;36m299\u001b[0m\u001b[1;33m)\u001b[0m\u001b[1;33m)\u001b[0m\u001b[1;33m:\u001b[0m\u001b[1;33m\u001b[0m\u001b[1;33m\u001b[0m\u001b[0m\n",
      "\u001b[1;32m~\\anaconda3\\lib\\site-packages\\requests\\api.py\u001b[0m in \u001b[0;36mget\u001b[1;34m(url, params, **kwargs)\u001b[0m\n\u001b[0;32m     74\u001b[0m     \u001b[0mkwargs\u001b[0m\u001b[1;33m.\u001b[0m\u001b[0msetdefault\u001b[0m\u001b[1;33m(\u001b[0m\u001b[1;34m'allow_redirects'\u001b[0m\u001b[1;33m,\u001b[0m \u001b[1;32mTrue\u001b[0m\u001b[1;33m)\u001b[0m\u001b[1;33m\u001b[0m\u001b[1;33m\u001b[0m\u001b[0m\n\u001b[1;32m---> 75\u001b[1;33m     \u001b[1;32mreturn\u001b[0m \u001b[0mrequest\u001b[0m\u001b[1;33m(\u001b[0m\u001b[1;34m'get'\u001b[0m\u001b[1;33m,\u001b[0m \u001b[0murl\u001b[0m\u001b[1;33m,\u001b[0m \u001b[0mparams\u001b[0m\u001b[1;33m=\u001b[0m\u001b[0mparams\u001b[0m\u001b[1;33m,\u001b[0m \u001b[1;33m**\u001b[0m\u001b[0mkwargs\u001b[0m\u001b[1;33m)\u001b[0m\u001b[1;33m\u001b[0m\u001b[1;33m\u001b[0m\u001b[0m\n\u001b[0m\u001b[0;32m     76\u001b[0m \u001b[1;33m\u001b[0m\u001b[0m\n",
      "\u001b[1;32m~\\anaconda3\\lib\\site-packages\\requests\\api.py\u001b[0m in \u001b[0;36mrequest\u001b[1;34m(method, url, **kwargs)\u001b[0m\n\u001b[0;32m     59\u001b[0m     \u001b[1;32mwith\u001b[0m \u001b[0msessions\u001b[0m\u001b[1;33m.\u001b[0m\u001b[0mSession\u001b[0m\u001b[1;33m(\u001b[0m\u001b[1;33m)\u001b[0m \u001b[1;32mas\u001b[0m \u001b[0msession\u001b[0m\u001b[1;33m:\u001b[0m\u001b[1;33m\u001b[0m\u001b[1;33m\u001b[0m\u001b[0m\n\u001b[1;32m---> 60\u001b[1;33m         \u001b[1;32mreturn\u001b[0m \u001b[0msession\u001b[0m\u001b[1;33m.\u001b[0m\u001b[0mrequest\u001b[0m\u001b[1;33m(\u001b[0m\u001b[0mmethod\u001b[0m\u001b[1;33m=\u001b[0m\u001b[0mmethod\u001b[0m\u001b[1;33m,\u001b[0m \u001b[0murl\u001b[0m\u001b[1;33m=\u001b[0m\u001b[0murl\u001b[0m\u001b[1;33m,\u001b[0m \u001b[1;33m**\u001b[0m\u001b[0mkwargs\u001b[0m\u001b[1;33m)\u001b[0m\u001b[1;33m\u001b[0m\u001b[1;33m\u001b[0m\u001b[0m\n\u001b[0m\u001b[0;32m     61\u001b[0m \u001b[1;33m\u001b[0m\u001b[0m\n",
      "\u001b[1;32m~\\anaconda3\\lib\\site-packages\\requests\\sessions.py\u001b[0m in \u001b[0;36mrequest\u001b[1;34m(self, method, url, params, data, headers, cookies, files, auth, timeout, allow_redirects, proxies, hooks, stream, verify, cert, json)\u001b[0m\n\u001b[0;32m    532\u001b[0m         \u001b[0msend_kwargs\u001b[0m\u001b[1;33m.\u001b[0m\u001b[0mupdate\u001b[0m\u001b[1;33m(\u001b[0m\u001b[0msettings\u001b[0m\u001b[1;33m)\u001b[0m\u001b[1;33m\u001b[0m\u001b[1;33m\u001b[0m\u001b[0m\n\u001b[1;32m--> 533\u001b[1;33m         \u001b[0mresp\u001b[0m \u001b[1;33m=\u001b[0m \u001b[0mself\u001b[0m\u001b[1;33m.\u001b[0m\u001b[0msend\u001b[0m\u001b[1;33m(\u001b[0m\u001b[0mprep\u001b[0m\u001b[1;33m,\u001b[0m \u001b[1;33m**\u001b[0m\u001b[0msend_kwargs\u001b[0m\u001b[1;33m)\u001b[0m\u001b[1;33m\u001b[0m\u001b[1;33m\u001b[0m\u001b[0m\n\u001b[0m\u001b[0;32m    534\u001b[0m \u001b[1;33m\u001b[0m\u001b[0m\n",
      "\u001b[1;32m~\\anaconda3\\lib\\site-packages\\requests\\sessions.py\u001b[0m in \u001b[0;36msend\u001b[1;34m(self, request, **kwargs)\u001b[0m\n\u001b[0;32m    645\u001b[0m         \u001b[1;31m# Send the request\u001b[0m\u001b[1;33m\u001b[0m\u001b[1;33m\u001b[0m\u001b[1;33m\u001b[0m\u001b[0m\n\u001b[1;32m--> 646\u001b[1;33m         \u001b[0mr\u001b[0m \u001b[1;33m=\u001b[0m \u001b[0madapter\u001b[0m\u001b[1;33m.\u001b[0m\u001b[0msend\u001b[0m\u001b[1;33m(\u001b[0m\u001b[0mrequest\u001b[0m\u001b[1;33m,\u001b[0m \u001b[1;33m**\u001b[0m\u001b[0mkwargs\u001b[0m\u001b[1;33m)\u001b[0m\u001b[1;33m\u001b[0m\u001b[1;33m\u001b[0m\u001b[0m\n\u001b[0m\u001b[0;32m    647\u001b[0m \u001b[1;33m\u001b[0m\u001b[0m\n",
      "\u001b[1;32m~\\anaconda3\\lib\\site-packages\\requests\\adapters.py\u001b[0m in \u001b[0;36msend\u001b[1;34m(self, request, stream, timeout, verify, cert, proxies)\u001b[0m\n\u001b[0;32m    513\u001b[0m                 \u001b[1;31m# This branch is for urllib3 v1.22 and later.\u001b[0m\u001b[1;33m\u001b[0m\u001b[1;33m\u001b[0m\u001b[1;33m\u001b[0m\u001b[0m\n\u001b[1;32m--> 514\u001b[1;33m                 \u001b[1;32mraise\u001b[0m \u001b[0mSSLError\u001b[0m\u001b[1;33m(\u001b[0m\u001b[0me\u001b[0m\u001b[1;33m,\u001b[0m \u001b[0mrequest\u001b[0m\u001b[1;33m=\u001b[0m\u001b[0mrequest\u001b[0m\u001b[1;33m)\u001b[0m\u001b[1;33m\u001b[0m\u001b[1;33m\u001b[0m\u001b[0m\n\u001b[0m\u001b[0;32m    515\u001b[0m \u001b[1;33m\u001b[0m\u001b[0m\n",
      "\u001b[1;31mSSLError\u001b[0m: HTTPSConnectionPool(host='api.spotify.com', port=443): Max retries exceeded with url: /v1/search?type=track&q=Poco+Crazy%20Love (Caused by SSLError(SSLError(\"bad handshake: SysCallError(-1, 'Unexpected EOF')\")))",
      "\nDuring handling of the above exception, another exception occurred:\n",
      "\u001b[1;31mTypeError\u001b[0m                                 Traceback (most recent call last)",
      "\u001b[1;32m<ipython-input-10-a560c8a38d54>\u001b[0m in \u001b[0;36m<module>\u001b[1;34m\u001b[0m\n\u001b[1;32m----> 1\u001b[1;33m \u001b[0mextraframe\u001b[0m \u001b[1;33m=\u001b[0m \u001b[0mgetFromSpotifyAPI\u001b[0m\u001b[1;33m(\u001b[0m\u001b[0mcollected_songs_name\u001b[0m\u001b[1;33m,\u001b[0m \u001b[0mcollected_songs_artist\u001b[0m\u001b[1;33m)\u001b[0m\u001b[1;33m\u001b[0m\u001b[1;33m\u001b[0m\u001b[0m\n\u001b[0m\u001b[0;32m      2\u001b[0m \u001b[0mextraframe\u001b[0m\u001b[1;33m.\u001b[0m\u001b[0mto_csv\u001b[0m\u001b[1;33m(\u001b[0m\u001b[1;34m\"extra_frames_from_top_100_2.csv\"\u001b[0m\u001b[1;33m)\u001b[0m\u001b[1;33m\u001b[0m\u001b[1;33m\u001b[0m\u001b[0m\n",
      "\u001b[1;32m<ipython-input-9-9861ec4da1d9>\u001b[0m in \u001b[0;36mgetFromSpotifyAPI\u001b[1;34m(songnamelist, artistnamelist)\u001b[0m\n\u001b[0;32m     27\u001b[0m \u001b[1;33m\u001b[0m\u001b[0m\n\u001b[0;32m     28\u001b[0m         \u001b[1;31m# get the relevant song id\u001b[0m\u001b[1;33m\u001b[0m\u001b[1;33m\u001b[0m\u001b[1;33m\u001b[0m\u001b[0m\n\u001b[1;32m---> 29\u001b[1;33m         \u001b[0msongid\u001b[0m \u001b[1;33m=\u001b[0m \u001b[0mspotify\u001b[0m\u001b[1;33m.\u001b[0m\u001b[0msearch_spotify_song_id\u001b[0m\u001b[1;33m(\u001b[0m\u001b[0martist_name\u001b[0m\u001b[1;33m=\u001b[0m\u001b[0martist\u001b[0m\u001b[1;33m,\u001b[0m \u001b[0msong_name\u001b[0m\u001b[1;33m=\u001b[0m\u001b[0mtitle\u001b[0m\u001b[1;33m)\u001b[0m\u001b[1;33m\u001b[0m\u001b[1;33m\u001b[0m\u001b[0m\n\u001b[0m\u001b[0;32m     30\u001b[0m \u001b[1;33m\u001b[0m\u001b[0m\n\u001b[0;32m     31\u001b[0m         \u001b[1;31m# check for None being returned for failed results\u001b[0m\u001b[1;33m\u001b[0m\u001b[1;33m\u001b[0m\u001b[1;33m\u001b[0m\u001b[0m\n",
      "\u001b[1;32mc:\\Users\\schee\\Documents\\University\\4\\Machine Learning\\group assignment\\using the prepack\\spotify_api.py\u001b[0m in \u001b[0;36msearch_spotify_song_id\u001b[1;34m(self, artist_name, song_name)\u001b[0m\n\u001b[0;32m    189\u001b[0m                 \u001b[1;32mreturn\u001b[0m \u001b[1;32mFalse\u001b[0m\u001b[1;33m\u001b[0m\u001b[1;33m\u001b[0m\u001b[0m\n\u001b[0;32m    190\u001b[0m         \u001b[1;32mexcept\u001b[0m \u001b[0mException\u001b[0m \u001b[1;32mas\u001b[0m \u001b[0me\u001b[0m\u001b[1;33m:\u001b[0m\u001b[1;33m\u001b[0m\u001b[1;33m\u001b[0m\u001b[0m\n\u001b[1;32m--> 191\u001b[1;33m             \u001b[0mprint\u001b[0m\u001b[1;33m(\u001b[0m\u001b[1;34m\"an exception occured during search\"\u001b[0m \u001b[1;33m+\u001b[0m \u001b[0me\u001b[0m\u001b[1;33m)\u001b[0m\u001b[1;33m\u001b[0m\u001b[1;33m\u001b[0m\u001b[0m\n\u001b[0m\u001b[0;32m    192\u001b[0m             \u001b[1;32mreturn\u001b[0m \u001b[1;32mFalse\u001b[0m\u001b[1;33m\u001b[0m\u001b[1;33m\u001b[0m\u001b[0m\n\u001b[0;32m    193\u001b[0m \u001b[1;33m\u001b[0m\u001b[0m\n",
      "\u001b[1;31mTypeError\u001b[0m: can only concatenate str (not \"SSLError\") to str"
     ]
    }
   ],
   "source": [
    "extraframe = getFromSpotifyAPI(collected_songs_name, collected_songs_artist)\n",
    "extraframe.to_csv(\"extra_frames_from_top_100_2.csv\")"
   ]
  },
  {
   "cell_type": "code",
   "execution_count": 11,
   "metadata": {},
   "outputs": [
    {
     "output_type": "error",
     "ename": "NameError",
     "evalue": "name 'extraframe' is not defined",
     "traceback": [
      "\u001b[1;31m---------------------------------------------------------------------------\u001b[0m",
      "\u001b[1;31mNameError\u001b[0m                                 Traceback (most recent call last)",
      "\u001b[1;32m<ipython-input-11-72b4bf940c86>\u001b[0m in \u001b[0;36m<module>\u001b[1;34m\u001b[0m\n\u001b[1;32m----> 1\u001b[1;33m \u001b[0mextraframe\u001b[0m\u001b[1;33m.\u001b[0m\u001b[0mto_csv\u001b[0m\u001b[1;33m(\u001b[0m\u001b[1;34m\"extra_frames_from_top_100_2.csv\"\u001b[0m\u001b[1;33m)\u001b[0m\u001b[1;33m\u001b[0m\u001b[1;33m\u001b[0m\u001b[0m\n\u001b[0m",
      "\u001b[1;31mNameError\u001b[0m: name 'extraframe' is not defined"
     ]
    }
   ],
   "source": [
    "extraframe.to_csv(\"extra_frames_from_top_100_2.csv\")"
   ]
  },
  {
   "cell_type": "code",
   "execution_count": 1,
   "metadata": {},
   "outputs": [
    {
     "output_type": "stream",
     "name": "stdout",
     "text": [
      "Dataset loaded\n"
     ]
    }
   ],
   "source": [
    "# Do this again for the second lump of song names fetched in \"more_data\"\n",
    "# In this instance to it for the first 200 songs\n",
    "import pandas as pd\n",
    "import numpy as np\n",
    "\n",
    "more_data = pd.read_csv(\"more_data.csv\")\n",
    "artists = more_data[\"Artist Name\"]\n",
    "songs = more_data[\"Title\"]\n",
    "\n",
    "print(\"Dataset loaded\")"
   ]
  },
  {
   "cell_type": "code",
   "execution_count": 4,
   "metadata": {
    "tags": [
     "outputPrepend"
    ]
   },
   "outputs": [
    {
     "output_type": "stream",
     "name": "stdout",
     "text": [
      "i.spotify.com/v1/tracks/6fPOMDQjhpriegRiBpTNK7', 'analysis_url': 'https://api.spotify.com/v1/audio-analysis/6fPOMDQjhpriegRiBpTNK7', 'duration_ms': 196893, 'time_signature': 4}\n",
      "searching endpointhttps://api.spotify.com/v1/search?type=track&q=Kevin%20Max+Baby_%20I%27m%20Your%20Man\n",
      "{'danceability': 0.398, 'energy': 0.629, 'key': 9, 'loudness': -6.495, 'mode': 1, 'speechiness': 0.0297, 'acousticness': 0.602, 'instrumentalness': 0, 'liveness': 0.104, 'valence': 0.196, 'tempo': 176.097, 'type': 'audio_features', 'id': '43n3LlrYB1eveNSaTQuWft', 'uri': 'spotify:track:43n3LlrYB1eveNSaTQuWft', 'track_href': 'https://api.spotify.com/v1/tracks/43n3LlrYB1eveNSaTQuWft', 'analysis_url': 'https://api.spotify.com/v1/audio-analysis/43n3LlrYB1eveNSaTQuWft', 'duration_ms': 219080, 'time_signature': 4}\n",
      "searching endpointhttps://api.spotify.com/v1/search?type=track&q=Little%20Willie%20John+Leave%20My%20Kitten%20Alone\n",
      "{'danceability': 0.502, 'energy': 0.638, 'key': 8, 'loudness': -9.673, 'mode': 1, 'speechiness': 0.0334, 'acousticness': 0.644, 'instrumentalness': 3.7e-05, 'liveness': 0.304, 'valence': 0.932, 'tempo': 104.182, 'type': 'audio_features', 'id': '6UzdsQ8uKD6wSSeoui8Aos', 'uri': 'spotify:track:6UzdsQ8uKD6wSSeoui8Aos', 'track_href': 'https://api.spotify.com/v1/tracks/6UzdsQ8uKD6wSSeoui8Aos', 'analysis_url': 'https://api.spotify.com/v1/audio-analysis/6UzdsQ8uKD6wSSeoui8Aos', 'duration_ms': 153739, 'time_signature': 4}\n",
      "searching endpointhttps://api.spotify.com/v1/search?type=track&q=Tora%20Tora+That%27s%20Not%20the%20Way%20Love%27s%20Supposed%20to%20Be\n",
      "{'danceability': 0.581, 'energy': 0.841, 'key': 7, 'loudness': -11.796, 'mode': 1, 'speechiness': 0.0472, 'acousticness': 7.88e-05, 'instrumentalness': 0.512, 'liveness': 0.0763, 'valence': 0.459, 'tempo': 110.504, 'type': 'audio_features', 'id': '1YBzMWTTBP03F8SWtj5JY3', 'uri': 'spotify:track:1YBzMWTTBP03F8SWtj5JY3', 'track_href': 'https://api.spotify.com/v1/tracks/1YBzMWTTBP03F8SWtj5JY3', 'analysis_url': 'https://api.spotify.com/v1/audio-analysis/1YBzMWTTBP03F8SWtj5JY3', 'duration_ms': 251440, 'time_signature': 4}\n",
      "searching endpointhttps://api.spotify.com/v1/search?type=track&q=Dinosaur%20Jr.+Does%20It%20Float\n",
      "{'danceability': 0.264, 'energy': 0.911, 'key': 0, 'loudness': -4.367, 'mode': 1, 'speechiness': 0.181, 'acousticness': 0.0171, 'instrumentalness': 0.11, 'liveness': 0.326, 'valence': 0.313, 'tempo': 92.606, 'type': 'audio_features', 'id': '1oOFIdrz0qtG41ZJuko6Dk', 'uri': 'spotify:track:1oOFIdrz0qtG41ZJuko6Dk', 'track_href': 'https://api.spotify.com/v1/tracks/1oOFIdrz0qtG41ZJuko6Dk', 'analysis_url': 'https://api.spotify.com/v1/audio-analysis/1oOFIdrz0qtG41ZJuko6Dk', 'duration_ms': 198533, 'time_signature': 4}\n",
      "searching endpointhttps://api.spotify.com/v1/search?type=track&q=Sin%20Plomo+Why%20can%27t%20we%20live%20together\n",
      "{'danceability': 0.473, 'energy': 0.948, 'key': 5, 'loudness': -9.304, 'mode': 0, 'speechiness': 0.0627, 'acousticness': 0.00284, 'instrumentalness': 0.263, 'liveness': 0.783, 'valence': 0.155, 'tempo': 180.058, 'type': 'audio_features', 'id': '01j624nbK36jUDlX3RIARR', 'uri': 'spotify:track:01j624nbK36jUDlX3RIARR', 'track_href': 'https://api.spotify.com/v1/tracks/01j624nbK36jUDlX3RIARR', 'analysis_url': 'https://api.spotify.com/v1/audio-analysis/01j624nbK36jUDlX3RIARR', 'duration_ms': 564320, 'time_signature': 4}\n",
      "searching endpointhttps://api.spotify.com/v1/search?type=track&q=Lloyd%20Spiegel+The%20Storm\n",
      "Song not found - Lloyd Spiegel, The Storm\n",
      "searching endpointhttps://api.spotify.com/v1/search?type=track&q=The%20Sex%20Pistols+My%20Way%20%28Alternate%20Studio%20Version%29\n",
      "Song not found - The Sex Pistols, My Way (Alternate Studio Version)\n",
      "searching endpointhttps://api.spotify.com/v1/search?type=track&q=Toni%20Braxton%20Featuring%20Babyface+Give%20U%20My%20Heart\n",
      "Song not found - Toni Braxton Featuring Babyface, Give U My Heart\n",
      "searching endpointhttps://api.spotify.com/v1/search?type=track&q=Cal%20Tjader+Along%20Comes%20Mary\n",
      "{'danceability': 0.531, 'energy': 0.343, 'key': 9, 'loudness': -20.069, 'mode': 1, 'speechiness': 0.0347, 'acousticness': 0.929, 'instrumentalness': 0.843, 'liveness': 0.106, 'valence': 0.865, 'tempo': 143.577, 'type': 'audio_features', 'id': '2RzeKR89q6DMgR9zsS8psp', 'uri': 'spotify:track:2RzeKR89q6DMgR9zsS8psp', 'track_href': 'https://api.spotify.com/v1/tracks/2RzeKR89q6DMgR9zsS8psp', 'analysis_url': 'https://api.spotify.com/v1/audio-analysis/2RzeKR89q6DMgR9zsS8psp', 'duration_ms': 200067, 'time_signature': 4}\n",
      "searching endpointhttps://api.spotify.com/v1/search?type=track&q=Aiden+Die%20Romantic%20%5BLive%5D\n",
      "{'danceability': 0.302, 'energy': 0.893, 'key': 7, 'loudness': -7.522, 'mode': 1, 'speechiness': 0.119, 'acousticness': 2.82e-05, 'instrumentalness': 7.87e-05, 'liveness': 0.801, 'valence': 0.29, 'tempo': 127.078, 'type': 'audio_features', 'id': '4bFjZqdWYoHVMWRXmeu5h5', 'uri': 'spotify:track:4bFjZqdWYoHVMWRXmeu5h5', 'track_href': 'https://api.spotify.com/v1/tracks/4bFjZqdWYoHVMWRXmeu5h5', 'analysis_url': 'https://api.spotify.com/v1/audio-analysis/4bFjZqdWYoHVMWRXmeu5h5', 'duration_ms': 241040, 'time_signature': 4}\n",
      "searching endpointhttps://api.spotify.com/v1/search?type=track&q=Winterlight+Daybreak\n",
      "{'danceability': 0.471, 'energy': 0.791, 'key': 0, 'loudness': -7.942, 'mode': 1, 'speechiness': 0.0287, 'acousticness': 0.113, 'instrumentalness': 0.971, 'liveness': 0.11, 'valence': 0.286, 'tempo': 100.005, 'type': 'audio_features', 'id': '10tAHpl8YCZ3OPofXToaVU', 'uri': 'spotify:track:10tAHpl8YCZ3OPofXToaVU', 'track_href': 'https://api.spotify.com/v1/tracks/10tAHpl8YCZ3OPofXToaVU', 'analysis_url': 'https://api.spotify.com/v1/audio-analysis/10tAHpl8YCZ3OPofXToaVU', 'duration_ms': 328800, 'time_signature': 4}\n",
      "searching endpointhttps://api.spotify.com/v1/search?type=track&q=themselves+Crayon%20Sharpener\n",
      "{'danceability': 0.814, 'energy': 0.573, 'key': 1, 'loudness': -13.452, 'mode': 1, 'speechiness': 0.21, 'acousticness': 0.554, 'instrumentalness': 3.19e-05, 'liveness': 0.0969, 'valence': 0.546, 'tempo': 167.885, 'type': 'audio_features', 'id': '1wymQrLE5dbyBlSSTzUesS', 'uri': 'spotify:track:1wymQrLE5dbyBlSSTzUesS', 'track_href': 'https://api.spotify.com/v1/tracks/1wymQrLE5dbyBlSSTzUesS', 'analysis_url': 'https://api.spotify.com/v1/audio-analysis/1wymQrLE5dbyBlSSTzUesS', 'duration_ms': 271440, 'time_signature': 4}\n",
      "searching endpointhttps://api.spotify.com/v1/search?type=track&q=Ivan%20Parker+Then%20He%20Said_%20%22Sing\n",
      "{'danceability': 0.647, 'energy': 0.645, 'key': 0, 'loudness': -9.843, 'mode': 1, 'speechiness': 0.0285, 'acousticness': 0.307, 'instrumentalness': 0, 'liveness': 0.866, 'valence': 0.693, 'tempo': 91.796, 'type': 'audio_features', 'id': '4wGUg0zeyL0wFZEyCSEDkl', 'uri': 'spotify:track:4wGUg0zeyL0wFZEyCSEDkl', 'track_href': 'https://api.spotify.com/v1/tracks/4wGUg0zeyL0wFZEyCSEDkl', 'analysis_url': 'https://api.spotify.com/v1/audio-analysis/4wGUg0zeyL0wFZEyCSEDkl', 'duration_ms': 208427, 'time_signature': 4}\n",
      "searching endpointhttps://api.spotify.com/v1/search?type=track&q=Daara%20J+Le%20Precipice\n",
      "{'danceability': 0.784, 'energy': 0.595, 'key': 1, 'loudness': -7.936, 'mode': 1, 'speechiness': 0.214, 'acousticness': 0.0581, 'instrumentalness': 0.00045, 'liveness': 0.23, 'valence': 0.456, 'tempo': 90.988, 'type': 'audio_features', 'id': '2zMWCy99GUnhj8fCAn1SAX', 'uri': 'spotify:track:2zMWCy99GUnhj8fCAn1SAX', 'track_href': 'https://api.spotify.com/v1/tracks/2zMWCy99GUnhj8fCAn1SAX', 'analysis_url': 'https://api.spotify.com/v1/audio-analysis/2zMWCy99GUnhj8fCAn1SAX', 'duration_ms': 258293, 'time_signature': 4}\n",
      "searching endpointhttps://api.spotify.com/v1/search?type=track&q=New%20Found%20Glory+Don%27t%20Let%20Her%20Pull%20You%20Down\n",
      "{'danceability': 0.472, 'energy': 0.988, 'key': 4, 'loudness': -3.007, 'mode': 1, 'speechiness': 0.111, 'acousticness': 0.00521, 'instrumentalness': 1.44e-05, 'liveness': 0.336, 'valence': 0.483, 'tempo': 96.028, 'type': 'audio_features', 'id': '5ab6WsStT9zSlNZ9CSArje', 'uri': 'spotify:track:5ab6WsStT9zSlNZ9CSArje', 'track_href': 'https://api.spotify.com/v1/tracks/5ab6WsStT9zSlNZ9CSArje', 'analysis_url': 'https://api.spotify.com/v1/audio-analysis/5ab6WsStT9zSlNZ9CSArje', 'duration_ms': 208267, 'time_signature': 4}\n",
      "searching endpointhttps://api.spotify.com/v1/search?type=track&q=Mar%5Cxc3%5Cxada%20Elena%20Walsh+La%20Mona%20Jacinta\n",
      "Song not found - Mar\\xc3\\xada Elena Walsh, La Mona Jacinta\n",
      "searching endpointhttps://api.spotify.com/v1/search?type=track&q=Mindy%20McCready+Ten%20Thousand%20Angels\n",
      "{'danceability': 0.469, 'energy': 0.606, 'key': 10, 'loudness': -5.684, 'mode': 1, 'speechiness': 0.0357, 'acousticness': 0.151, 'instrumentalness': 0, 'liveness': 0.078, 'valence': 0.53, 'tempo': 201.26, 'type': 'audio_features', 'id': '1mhPVHjzfJLGird0TFZxmb', 'uri': 'spotify:track:1mhPVHjzfJLGird0TFZxmb', 'track_href': 'https://api.spotify.com/v1/tracks/1mhPVHjzfJLGird0TFZxmb', 'analysis_url': 'https://api.spotify.com/v1/audio-analysis/1mhPVHjzfJLGird0TFZxmb', 'duration_ms': 207227, 'time_signature': 4}\n",
      "searching endpointhttps://api.spotify.com/v1/search?type=track&q=Joy%20Division+Leaders%20Of%20Men\n",
      "{'danceability': 0.519, 'energy': 0.662, 'key': 0, 'loudness': -10.643, 'mode': 1, 'speechiness': 0.0442, 'acousticness': 0.198, 'instrumentalness': 0, 'liveness': 0.112, 'valence': 0.82, 'tempo': 140.742, 'type': 'audio_features', 'id': '3FckgkjljxOUBt9LYUZo5Z', 'uri': 'spotify:track:3FckgkjljxOUBt9LYUZo5Z', 'track_href': 'https://api.spotify.com/v1/tracks/3FckgkjljxOUBt9LYUZo5Z', 'analysis_url': 'https://api.spotify.com/v1/audio-analysis/3FckgkjljxOUBt9LYUZo5Z', 'duration_ms': 155052, 'time_signature': 4}\n",
      "searching endpointhttps://api.spotify.com/v1/search?type=track&q=Don%20Francisco+Overture%20%28Genesis%20%26%20Job%29\n",
      "{'danceability': 0.24, 'energy': 0.214, 'key': 0, 'loudness': -18.023, 'mode': 1, 'speechiness': 0.034, 'acousticness': 0.0378, 'instrumentalness': 0.0972, 'liveness': 0.107, 'valence': 0.0525, 'tempo': 137.769, 'type': 'audio_features', 'id': '1IRcc7bSySQt6UF1qKK9L6', 'uri': 'spotify:track:1IRcc7bSySQt6UF1qKK9L6', 'track_href': 'https://api.spotify.com/v1/tracks/1IRcc7bSySQt6UF1qKK9L6', 'analysis_url': 'https://api.spotify.com/v1/audio-analysis/1IRcc7bSySQt6UF1qKK9L6', 'duration_ms': 311160, 'time_signature': 5}\n",
      "searching endpointhttps://api.spotify.com/v1/search?type=track&q=Kaskaad+Mohawk%20Hunt\n",
      "Song not found - Kaskaad, Mohawk Hunt\n",
      "searching endpointhttps://api.spotify.com/v1/search?type=track&q=Chantal%20Chamandy+Zindegi\n",
      "{'danceability': 0.497, 'energy': 0.609, 'key': 11, 'loudness': -7.14, 'mode': 0, 'speechiness': 0.0447, 'acousticness': 0.674, 'instrumentalness': 9.5e-05, 'liveness': 0.154, 'valence': 0.335, 'tempo': 169.879, 'type': 'audio_features', 'id': '7aCOySJVFed2cvo16ECN3j', 'uri': 'spotify:track:7aCOySJVFed2cvo16ECN3j', 'track_href': 'https://api.spotify.com/v1/tracks/7aCOySJVFed2cvo16ECN3j', 'analysis_url': 'https://api.spotify.com/v1/audio-analysis/7aCOySJVFed2cvo16ECN3j', 'duration_ms': 256160, 'time_signature': 4}\n",
      "searching endpointhttps://api.spotify.com/v1/search?type=track&q=Mouth%20Of%20The%20Architect+Harboring%20An%20Apparition\n",
      "{'danceability': 0.421, 'energy': 0.86, 'key': 8, 'loudness': -7.335, 'mode': 1, 'speechiness': 0.0387, 'acousticness': 0.000143, 'instrumentalness': 0.901, 'liveness': 0.137, 'valence': 0.0399, 'tempo': 125.047, 'type': 'audio_features', 'id': '7Lxm6M59GTcvXKDXLjqTht', 'uri': 'spotify:track:7Lxm6M59GTcvXKDXLjqTht', 'track_href': 'https://api.spotify.com/v1/tracks/7Lxm6M59GTcvXKDXLjqTht', 'analysis_url': 'https://api.spotify.com/v1/audio-analysis/7Lxm6M59GTcvXKDXLjqTht', 'duration_ms': 474517, 'time_signature': 3}\n",
      "searching endpointhttps://api.spotify.com/v1/search?type=track&q=It%20Dies%20Today+One%20the%20road%20%28to%20Damnation%29\n",
      "{'danceability': 0.329, 'energy': 0.963, 'key': 4, 'loudness': -3.501, 'mode': 1, 'speechiness': 0.145, 'acousticness': 1.87e-05, 'instrumentalness': 0.00138, 'liveness': 0.222, 'valence': 0.205, 'tempo': 116.847, 'type': 'audio_features', 'id': '0MS1NrmBWaCpPLFEXV0VMZ', 'uri': 'spotify:track:0MS1NrmBWaCpPLFEXV0VMZ', 'track_href': 'https://api.spotify.com/v1/tracks/0MS1NrmBWaCpPLFEXV0VMZ', 'analysis_url': 'https://api.spotify.com/v1/audio-analysis/0MS1NrmBWaCpPLFEXV0VMZ', 'duration_ms': 179413, 'time_signature': 3}\n",
      "searching endpointhttps://api.spotify.com/v1/search?type=track&q=Diamanda%20Galas+Dark%20End%20Of%20The%20Street\n",
      "{'danceability': 0.595, 'energy': 0.423, 'key': 0, 'loudness': -13.168, 'mode': 1, 'speechiness': 0.0359, 'acousticness': 0.143, 'instrumentalness': 0.00183, 'liveness': 0.21, 'valence': 0.745, 'tempo': 81.757, 'type': 'audio_features', 'id': '1pTOAsLA1VJPLe5IusBOZb', 'uri': 'spotify:track:1pTOAsLA1VJPLe5IusBOZb', 'track_href': 'https://api.spotify.com/v1/tracks/1pTOAsLA1VJPLe5IusBOZb', 'analysis_url': 'https://api.spotify.com/v1/audio-analysis/1pTOAsLA1VJPLe5IusBOZb', 'duration_ms': 163133, 'time_signature': 4}\n",
      "searching endpointhttps://api.spotify.com/v1/search?type=track&q=David%20Arkenstone+The%20Forgotten%20Lands\n",
      "{'danceability': 0.562, 'energy': 0.525, 'key': 9, 'loudness': -14.594, 'mode': 1, 'speechiness': 0.0283, 'acousticness': 0.456, 'instrumentalness': 0.883, 'liveness': 0.311, 'valence': 0.713, 'tempo': 141.957, 'type': 'audio_features', 'id': '7xV2k7FEMtUT4IUu4L87it', 'uri': 'spotify:track:7xV2k7FEMtUT4IUu4L87it', 'track_href': 'https://api.spotify.com/v1/tracks/7xV2k7FEMtUT4IUu4L87it', 'analysis_url': 'https://api.spotify.com/v1/audio-analysis/7xV2k7FEMtUT4IUu4L87it', 'duration_ms': 314533, 'time_signature': 4}\n",
      "searching endpointhttps://api.spotify.com/v1/search?type=track&q=Mario%20Rosenstock+Munster%20Song%20%28Best%20of%202009%29\n",
      "Song not found - Mario Rosenstock, Munster Song (Best of 2009)\n",
      "searching endpointhttps://api.spotify.com/v1/search?type=track&q=Grandpa%20Jones+Down%20In%20Dixie\n",
      "{'danceability': 0.88, 'energy': 0.59, 'key': 2, 'loudness': -4.452, 'mode': 1, 'speechiness': 0.0356, 'acousticness': 0.933, 'instrumentalness': 0.125, 'liveness': 0.126, 'valence': 0.96, 'tempo': 117.512, 'type': 'audio_features', 'id': '31pxc4TDet1VWBGdwibNqD', 'uri': 'spotify:track:31pxc4TDet1VWBGdwibNqD', 'track_href': 'https://api.spotify.com/v1/tracks/31pxc4TDet1VWBGdwibNqD', 'analysis_url': 'https://api.spotify.com/v1/audio-analysis/31pxc4TDet1VWBGdwibNqD', 'duration_ms': 143293, 'time_signature': 4}\n",
      "searching endpointhttps://api.spotify.com/v1/search?type=track&q=Blind%20Willie%20Johnson+God%20Don%27t%20Never%20Change\n",
      "{'danceability': 0.695, 'energy': 0.331, 'key': 9, 'loudness': -9.73, 'mode': 1, 'speechiness': 0.101, 'acousticness': 0.651, 'instrumentalness': 0, 'liveness': 0.226, 'valence': 0.338, 'tempo': 70.549, 'type': 'audio_features', 'id': '0s90xcf2gZ6hJZA32yXE1V', 'uri': 'spotify:track:0s90xcf2gZ6hJZA32yXE1V', 'track_href': 'https://api.spotify.com/v1/tracks/0s90xcf2gZ6hJZA32yXE1V', 'analysis_url': 'https://api.spotify.com/v1/audio-analysis/0s90xcf2gZ6hJZA32yXE1V', 'duration_ms': 192000, 'time_signature': 4}\n",
      "searching endpointhttps://api.spotify.com/v1/search?type=track&q=Moonspell+The%20Hanged%20Man\n",
      "{'danceability': 0.404, 'energy': 0.636, 'key': 4, 'loudness': -8.798, 'mode': 0, 'speechiness': 0.0325, 'acousticness': 0.0643, 'instrumentalness': 0.653, 'liveness': 0.0795, 'valence': 0.0979, 'tempo': 140.105, 'type': 'audio_features', 'id': '3e0tyTV5FiV1bcYeRjdDz2', 'uri': 'spotify:track:3e0tyTV5FiV1bcYeRjdDz2', 'track_href': 'https://api.spotify.com/v1/tracks/3e0tyTV5FiV1bcYeRjdDz2', 'analysis_url': 'https://api.spotify.com/v1/audio-analysis/3e0tyTV5FiV1bcYeRjdDz2', 'duration_ms': 386333, 'time_signature': 4}\n",
      "searching endpointhttps://api.spotify.com/v1/search?type=track&q=Danny%20Williams+The%20Wonderful%20World%20Of%20The%20Young\n",
      "{'danceability': 0.194, 'energy': 0.251, 'key': 8, 'loudness': -12.959, 'mode': 1, 'speechiness': 0.0371, 'acousticness': 0.944, 'instrumentalness': 0, 'liveness': 0.0997, 'valence': 0.31, 'tempo': 179.31, 'type': 'audio_features', 'id': '62wqW6Q9eTozrruWPt9Z9i', 'uri': 'spotify:track:62wqW6Q9eTozrruWPt9Z9i', 'track_href': 'https://api.spotify.com/v1/tracks/62wqW6Q9eTozrruWPt9Z9i', 'analysis_url': 'https://api.spotify.com/v1/audio-analysis/62wqW6Q9eTozrruWPt9Z9i', 'duration_ms': 169333, 'time_signature': 1}\n",
      "searching endpointhttps://api.spotify.com/v1/search?type=track&q=Winston%20Reedy+Sentimental%20Man\n",
      "{'danceability': 0.984, 'energy': 0.395, 'key': 11, 'loudness': -11.838, 'mode': 1, 'speechiness': 0.0653, 'acousticness': 0.0236, 'instrumentalness': 8.36e-05, 'liveness': 0.0654, 'valence': 0.922, 'tempo': 118.089, 'type': 'audio_features', 'id': '7n0ShZeoewT4ZOJCmwHdnQ', 'uri': 'spotify:track:7n0ShZeoewT4ZOJCmwHdnQ', 'track_href': 'https://api.spotify.com/v1/tracks/7n0ShZeoewT4ZOJCmwHdnQ', 'analysis_url': 'https://api.spotify.com/v1/audio-analysis/7n0ShZeoewT4ZOJCmwHdnQ', 'duration_ms': 196200, 'time_signature': 4}\n",
      "searching endpointhttps://api.spotify.com/v1/search?type=track&q=Myrick%20%22Freeze%22%20Guillory+Zydeco%20In%20D-Minor\n",
      "{'danceability': 0.369, 'energy': 0.771, 'key': 0, 'loudness': -12.679, 'mode': 1, 'speechiness': 0.224, 'acousticness': 0.0844, 'instrumentalness': 0.000762, 'liveness': 0.987, 'valence': 0.685, 'tempo': 139.026, 'type': 'audio_features', 'id': '5DqBIhTIAOUQRsmqe5f0oA', 'uri': 'spotify:track:5DqBIhTIAOUQRsmqe5f0oA', 'track_href': 'https://api.spotify.com/v1/tracks/5DqBIhTIAOUQRsmqe5f0oA', 'analysis_url': 'https://api.spotify.com/v1/audio-analysis/5DqBIhTIAOUQRsmqe5f0oA', 'duration_ms': 300773, 'time_signature': 4}\n",
      "                  Artist name                             Title  \\\n",
      "0                   Jo Privat                  Ay ! Mi Sombrero   \n",
      "1                The Mustangs                     Moscow Nights   \n",
      "2                 Russ Morgan   Love Divine_ All Love Excelling   \n",
      "3                 First Blood                         Execution   \n",
      "4                  Joe Heaney                   Red is the Rose   \n",
      "..                        ...                               ...   \n",
      "961      Blind Willie Johnson            God Don't Never Change   \n",
      "962                 Moonspell                    The Hanged Man   \n",
      "963            Danny Williams  The Wonderful World Of The Young   \n",
      "964             Winston Reedy                   Sentimental Man   \n",
      "965  Myrick \"Freeze\" Guillory                 Zydeco In D-Minor   \n",
      "\n",
      "                 spotify_id acousticness dancability  energy instrumentalness  \\\n",
      "0    0PvNy5PKhS4IicwjcxDrg2        0.475       0.773   0.461           0.0986   \n",
      "1    1G9okGE7SpoPtXkZMyd52a        0.305       0.516    0.51            0.941   \n",
      "2    6f5b9f1etYLJf2AUFv7CrJ        0.962      0.0997   0.114           0.0869   \n",
      "3    3SkIvTsKsW9DqmfSoo7qlm     6.04e-05       0.399   0.971          0.00284   \n",
      "4    47VBhBnkS5nNFqliPWvG7i        0.931       0.492  0.0288                0   \n",
      "..                      ...          ...         ...     ...              ...   \n",
      "961  0s90xcf2gZ6hJZA32yXE1V        0.651       0.695   0.331                0   \n",
      "962  3e0tyTV5FiV1bcYeRjdDz2       0.0643       0.404   0.636            0.653   \n",
      "963  62wqW6Q9eTozrruWPt9Z9i        0.944       0.194   0.251                0   \n",
      "964  7n0ShZeoewT4ZOJCmwHdnQ       0.0236       0.984   0.395         8.36e-05   \n",
      "965  5DqBIhTIAOUQRsmqe5f0oA       0.0844       0.369   0.771         0.000762   \n",
      "\n",
      "    key liveness loudness mode speechiness    tempo valence  \n",
      "0     9   0.0415   -6.081    1      0.0389  122.043   0.927  \n",
      "1     4    0.125   -9.065    0      0.0311  128.939   0.888  \n",
      "2    10    0.126  -16.087    1      0.0332   79.656   0.233  \n",
      "3     7    0.172   -4.237    1       0.119  131.214   0.546  \n",
      "4     8    0.694  -18.746    1      0.0916   79.597   0.379  \n",
      "..   ..      ...      ...  ...         ...      ...     ...  \n",
      "961   9    0.226    -9.73    1       0.101   70.549   0.338  \n",
      "962   4   0.0795   -8.798    0      0.0325  140.105  0.0979  \n",
      "963   8   0.0997  -12.959    1      0.0371   179.31    0.31  \n",
      "964  11   0.0654  -11.838    1      0.0653  118.089   0.922  \n",
      "965   0    0.987  -12.679    1       0.224  139.026   0.685  \n",
      "\n",
      "[966 rows x 14 columns]\n"
     ]
    }
   ],
   "source": [
    "spotify = SpotifyAPIWrapper()\n",
    "spotify.get_spotify_api_token()\n",
    "\n",
    "# Take a range of these songs\n",
    "ran = range(18500, 20000)\n",
    "RANGE = list(ran)\n",
    "\n",
    "song_range = songs[RANGE]\n",
    "artist_range = artists[RANGE]\n",
    "\n",
    "print(song_range)\n",
    "\n",
    "range_frame = pd.DataFrame(columns=(\"Artist name\", \"Title\", \"spotify_id\", \"acousticness\", \"dancability\", \"energy\", \"instrumentalness\", \"key\", \"liveness\", \"loudness\", \"mode\", \"speechiness\", \"tempo\", \"valence\"), index=np.arange(0,200))\n",
    "\n",
    "next_dataset_row = 0\n",
    "\n",
    "for i in ran:\n",
    "    title = song_range[i]\n",
    "    artist = artist_range[i]\n",
    "\n",
    "    # get the relevant song id\n",
    "    songid = spotify.search_spotify_song_id(artist_name=artist, song_name=title)\n",
    "    \n",
    "    # check for None being returned for failed results\n",
    "    if (songid != False):\n",
    "        # get the features from the api\n",
    "        features = spotify.get_features_from_id(songid)\n",
    "        if (features != False):\n",
    "            # Add the features to a new row in a new dataframe\n",
    "            range_frame.loc[next_dataset_row] = [artist, title, features[\"id\"], features[\"acousticness\"], features[\"danceability\"], features[\"energy\"], features[\"instrumentalness\"], features[\"key\"], features[\"liveness\"], features[\"loudness\"], features[\"mode\"], features[\"speechiness\"], features[\"tempo\"], features[\"valence\"]]\n",
    "\n",
    "            # increment the next row to enter to\n",
    "            next_dataset_row = next_dataset_row + 1\n",
    "\n",
    "print(range_frame)\n",
    "range_frame.to_csv(\"range_frame_23.csv\")\n"
   ]
  },
  {
   "cell_type": "code",
   "execution_count": 35,
   "metadata": {},
   "outputs": [
    {
     "output_type": "stream",
     "name": "stdout",
     "text": [
      "                  Artist name                               Title  \\\n0        The Jeff Healey Band         It Could All Get Blown Away   \n1                Anthony Cruz                          Make it up   \n2          Thomas Battenstein              Jag Vet En Dejlig Rosa   \n3                        Devo      Sloppy (I Saw My Baby Gettin')   \n4    Pep Laguarda & Tapineria                   Caseta del Plater   \n..                        ...                                 ...   \n537        Danielle Bollinger  When the Broken Hearted Love Again   \n538                    H-Town                           Sex Dance   \n539                Dead To Me                        What's Wrong   \n540           Mighty Diamonds                           Searching   \n541                   Hatiras                         Final Flash   \n\n                 spotify_id acousticness dancability energy instrumentalness  \\\n0    2YbL2OLsMCbd0B1bmcKyWx      0.00428       0.503  0.738         0.000109   \n1    0NI3HiXvMopVPOAX55yomA        0.538       0.441  0.706                0   \n2    3o39i1lHVXAjFzVYQjECSy        0.729       0.497   0.19            0.379   \n3    1d8iAFwoIIJLcVQ7os4snL        0.278       0.452  0.794         0.000215   \n4    13GJxA2L73BqqD987ZwkuB        0.866       0.504  0.269            0.144   \n..                      ...          ...         ...    ...              ...   \n537  6n2wE9ckWa4As8yNgkw6J9     0.000958       0.614  0.931          0.00294   \n538  4yYqY1AhA63WzJ1sc9RYYR        0.153       0.869  0.452           0.0115   \n539  0StnWTbKRQzDyWybbPQoc8     0.000113       0.291  0.902         0.000112   \n540  73bgyRfd2W7xlBajSG86aE        0.153       0.785  0.534         5.98e-05   \n541  6S25Mx2xgg4kYM6GP31Zft      0.00251       0.408  0.943            0.908   \n\n    key liveness loudness mode speechiness    tempo valence  \n0     7    0.197   -6.643    0       0.034   94.447   0.635  \n1     2    0.168   -5.926    0       0.182   78.251   0.721  \n2     7   0.0965  -18.711    0       0.047    97.44   0.267  \n3     2    0.221  -10.435    1       0.181  177.029   0.545  \n4     0    0.111  -14.488    1      0.0351   124.95   0.184  \n..   ..      ...      ...  ...         ...      ...     ...  \n537   5    0.102   -4.796    0      0.0359  129.977   0.493  \n538   2   0.0672  -14.448    1       0.046  112.673   0.934  \n539   1    0.259   -6.666    1      0.0951  186.236   0.475  \n540   2   0.0412   -7.429    1       0.273  172.399   0.796  \n541   2    0.343   -4.675    1      0.0573  187.526   0.131  \n\n[542 rows x 14 columns]\n"
     ]
    }
   ],
   "source": [
    "print(range_frame)\n",
    "range_frame.to_csv(\"range_frame_21.csv\")"
   ]
  },
  {
   "cell_type": "code",
   "execution_count": null,
   "metadata": {},
   "outputs": [],
   "source": []
  }
 ]
}